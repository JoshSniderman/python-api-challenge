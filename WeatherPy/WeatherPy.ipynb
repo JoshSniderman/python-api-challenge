{
 "cells": [
  {
   "cell_type": "markdown",
   "metadata": {},
   "source": [
    "# WeatherPy\n",
    "----\n",
    "\n",
    "#### Note\n",
    "* Instructions have been included for each segment. You do not have to follow them exactly, but they are included to help you think through the steps."
   ]
  },
  {
   "cell_type": "code",
   "execution_count": 1,
   "metadata": {
    "scrolled": true
   },
   "outputs": [],
   "source": [
    "# Dependencies and Setup\n",
    "import matplotlib.pyplot as plt\n",
    "import pandas as pd\n",
    "import numpy as np\n",
    "import requests\n",
    "import time\n",
    "from scipy.stats import linregress\n",
    "\n",
    "# Import API key\n",
    "from api_keys import weather_api_key\n",
    "\n",
    "# Incorporated citipy to determine city based on latitude and longitude\n",
    "from citipy import citipy\n",
    "\n",
    "# Output File (CSV)\n",
    "output_data_file = \"output_data/cities.csv\"\n",
    "\n",
    "# Range of latitudes and longitudes\n",
    "lat_range = (-90, 90)\n",
    "lng_range = (-180, 180) "
   ]
  },
  {
   "cell_type": "markdown",
   "metadata": {},
   "source": [
    "## Generate Cities List"
   ]
  },
  {
   "cell_type": "code",
   "execution_count": 2,
   "metadata": {},
   "outputs": [
    {
     "data": {
      "text/plain": [
       "616"
      ]
     },
     "execution_count": 2,
     "metadata": {},
     "output_type": "execute_result"
    }
   ],
   "source": [
    "# List for holding lat_lngs and cities\n",
    "lat_lngs = []\n",
    "cities = []\n",
    "\n",
    "# Create a set of random lat and lng combinations\n",
    "lats = np.random.uniform(lat_range[0], lat_range[1], size=1500)\n",
    "lngs = np.random.uniform(lng_range[0], lng_range[1], size=1500)\n",
    "lat_lngs = zip(lats, lngs)\n",
    "\n",
    "# Identify nearest city for each lat, lng combination\n",
    "for lat_lng in lat_lngs:\n",
    "    city = citipy.nearest_city(lat_lng[0], lat_lng[1]).city_name\n",
    "    \n",
    "    # If the city is unique, then add it to a our cities list\n",
    "    if city not in cities:\n",
    "        cities.append(city)\n",
    "\n",
    "# Print the city count to confirm sufficient count\n",
    "len(cities)"
   ]
  },
  {
   "cell_type": "markdown",
   "metadata": {},
   "source": [
    "### Perform API Calls\n",
    "* Perform a weather check on each city using a series of successive API calls.\n",
    "* Include a print log of each city as it'sbeing processed (with the city number and city name).\n"
   ]
  },
  {
   "cell_type": "code",
   "execution_count": 3,
   "metadata": {
    "scrolled": true
   },
   "outputs": [
    {
     "name": "stdout",
     "output_type": "stream",
     "text": [
      "City not found. Skipping...\n",
      "Processing record 1 of Set | hay river\n",
      "Processing record 2 of Set | faanui\n",
      "Processing record 3 of Set | constitucion\n",
      "City not found. Skipping...\n",
      "Processing record 4 of Set | busselton\n",
      "Processing record 5 of Set | kavieng\n",
      "Processing record 6 of Set | rikitea\n",
      "Processing record 7 of Set | albany\n",
      "Processing record 8 of Set | new norfolk\n",
      "Processing record 9 of Set | florence\n",
      "Processing record 10 of Set | kapaa\n",
      "Processing record 11 of Set | georgetown\n",
      "Processing record 12 of Set | makakilo city\n",
      "City not found. Skipping...\n",
      "Processing record 13 of Set | vagur\n",
      "Processing record 14 of Set | kita\n",
      "Processing record 15 of Set | ponta do sol\n",
      "Processing record 16 of Set | hobart\n",
      "Processing record 17 of Set | sao filipe\n",
      "Processing record 18 of Set | salalah\n",
      "Processing record 19 of Set | barrow\n",
      "Processing record 20 of Set | punta arenas\n",
      "Processing record 21 of Set | beisfjord\n",
      "Processing record 22 of Set | thompson\n",
      "Processing record 23 of Set | carnarvon\n",
      "Processing record 24 of Set | pevek\n",
      "Processing record 25 of Set | sibolga\n",
      "Processing record 26 of Set | husavik\n",
      "Processing record 27 of Set | kilindoni\n",
      "Processing record 28 of Set | wana\n",
      "Processing record 29 of Set | atuona\n",
      "Processing record 30 of Set | ilulissat\n",
      "Processing record 31 of Set | chake chake\n",
      "Processing record 32 of Set | san cosme y damian\n",
      "Processing record 33 of Set | santa isabel\n",
      "Processing record 34 of Set | vaini\n",
      "Processing record 35 of Set | saskylakh\n",
      "City not found. Skipping...\n",
      "City not found. Skipping...\n",
      "Processing record 36 of Set | alcains\n",
      "Processing record 37 of Set | ribeira grande\n",
      "Processing record 38 of Set | pangnirtung\n",
      "City not found. Skipping...\n",
      "Processing record 39 of Set | jamestown\n",
      "Processing record 40 of Set | huarmey\n",
      "Processing record 41 of Set | pella\n",
      "Processing record 42 of Set | ngunguru\n",
      "Processing record 43 of Set | tecoanapa\n",
      "Processing record 44 of Set | puerto ayora\n",
      "Processing record 45 of Set | broome\n",
      "Processing record 46 of Set | kodiak\n",
      "Processing record 47 of Set | arraial do cabo\n",
      "Processing record 48 of Set | mataura\n",
      "Processing record 49 of Set | hermanus\n",
      "Processing record 50 of Set | lichinga\n",
      "City not found. Skipping...\n",
      "Processing record 51 of Set | mehamn\n",
      "Processing record 52 of Set | opuwo\n",
      "Processing record 53 of Set | lompoc\n",
      "Processing record 54 of Set | vestmannaeyjar\n",
      "City not found. Skipping...\n",
      "Processing record 55 of Set | perelyub\n",
      "Processing record 56 of Set | tiksi\n",
      "Processing record 57 of Set | flinders\n",
      "Processing record 58 of Set | male\n",
      "Processing record 59 of Set | ipora\n",
      "Processing record 60 of Set | cherskiy\n",
      "Processing record 61 of Set | beaumont\n",
      "City not found. Skipping...\n",
      "Processing record 62 of Set | toba\n",
      "Processing record 63 of Set | cape town\n",
      "Processing record 64 of Set | saint-augustin\n",
      "Processing record 65 of Set | rocha\n",
      "Processing record 66 of Set | santa marinella\n",
      "City not found. Skipping...\n",
      "Processing record 67 of Set | airai\n",
      "Processing record 68 of Set | ushuaia\n",
      "Processing record 69 of Set | veraval\n",
      "Processing record 70 of Set | araouane\n",
      "Processing record 71 of Set | ahipara\n",
      "Processing record 72 of Set | reyes\n",
      "Processing record 73 of Set | codrington\n",
      "Processing record 74 of Set | temyasovo\n",
      "Processing record 75 of Set | alugan\n",
      "Processing record 76 of Set | baturaja\n",
      "Processing record 77 of Set | maralal\n",
      "City not found. Skipping...\n",
      "Processing record 78 of Set | hilo\n",
      "Processing record 79 of Set | gold coast\n",
      "Processing record 80 of Set | knyaze-volkonskoye\n",
      "City not found. Skipping...\n",
      "Processing record 81 of Set | bethel\n",
      "Processing record 82 of Set | challans\n",
      "City not found. Skipping...\n",
      "Processing record 83 of Set | novyy urgal\n",
      "Processing record 84 of Set | trinidad\n",
      "Processing record 85 of Set | upernavik\n",
      "Processing record 86 of Set | san isidro\n",
      "Processing record 87 of Set | arak\n",
      "City not found. Skipping...\n",
      "City not found. Skipping...\n",
      "Processing record 88 of Set | leh\n",
      "Processing record 89 of Set | saldanha\n",
      "Processing record 90 of Set | saint anthony\n",
      "Processing record 91 of Set | kieta\n",
      "City not found. Skipping...\n",
      "Processing record 92 of Set | chuy\n",
      "Processing record 93 of Set | dikson\n",
      "Processing record 94 of Set | poum\n",
      "Processing record 95 of Set | bluff\n",
      "Processing record 96 of Set | hurghada\n",
      "Processing record 97 of Set | fortuna\n",
      "Processing record 98 of Set | hasaki\n",
      "Processing record 99 of Set | anadyr\n",
      "Processing record 100 of Set | norsup\n",
      "Processing record 101 of Set | deputatskiy\n",
      "City not found. Skipping...\n",
      "Processing record 102 of Set | baixa grande\n",
      "Processing record 103 of Set | fairbanks\n",
      "Processing record 104 of Set | fort frances\n",
      "Processing record 105 of Set | bilma\n",
      "Processing record 106 of Set | rabo de peixe\n",
      "Processing record 107 of Set | twentynine palms\n",
      "Processing record 108 of Set | mananara\n",
      "City not found. Skipping...\n",
      "Processing record 109 of Set | san cristobal\n",
      "Processing record 110 of Set | cabo san lucas\n",
      "Processing record 111 of Set | provideniya\n",
      "Processing record 112 of Set | auki\n",
      "Processing record 113 of Set | yerbogachen\n",
      "Processing record 114 of Set | bredasdorp\n",
      "Processing record 115 of Set | abrau-dyurso\n",
      "Processing record 116 of Set | torbay\n",
      "Processing record 117 of Set | chokurdakh\n",
      "Processing record 118 of Set | portland\n",
      "City not found. Skipping...\n",
      "Processing record 119 of Set | boca do acre\n",
      "Processing record 120 of Set | sakakah\n",
      "Processing record 121 of Set | east london\n",
      "Processing record 122 of Set | noumea\n",
      "Processing record 123 of Set | palmer\n",
      "Processing record 124 of Set | kaitangata\n",
      "Processing record 125 of Set | vila velha\n",
      "Processing record 126 of Set | butaritari\n",
      "Processing record 127 of Set | nemuro\n",
      "Processing record 128 of Set | thunder bay\n",
      "Processing record 129 of Set | udachnyy\n",
      "Processing record 130 of Set | port alfred\n",
      "Processing record 131 of Set | port lincoln\n",
      "Processing record 132 of Set | churapcha\n",
      "Processing record 133 of Set | vao\n",
      "Processing record 134 of Set | marzuq\n",
      "Processing record 135 of Set | avarua\n",
      "Processing record 136 of Set | bambous virieux\n",
      "Processing record 137 of Set | saint-joseph\n",
      "Processing record 138 of Set | otsuchi\n",
      "Processing record 139 of Set | severo-kurilsk\n",
      "Processing record 140 of Set | srednekolymsk\n",
      "Processing record 141 of Set | innisfail\n",
      "Processing record 142 of Set | cleveland\n",
      "Processing record 143 of Set | bonnyville\n",
      "Processing record 144 of Set | karratha\n",
      "Processing record 145 of Set | rockport\n",
      "Processing record 146 of Set | qaanaaq\n",
      "Processing record 147 of Set | arman\n",
      "Processing record 148 of Set | esperance\n",
      "Processing record 149 of Set | algiers\n",
      "Processing record 150 of Set | tonj\n",
      "Processing record 151 of Set | juneau\n",
      "Processing record 152 of Set | celestun\n",
      "Processing record 153 of Set | praya\n",
      "Processing record 154 of Set | hithadhoo\n",
      "Processing record 155 of Set | goya\n",
      "Processing record 156 of Set | port elizabeth\n",
      "City not found. Skipping...\n",
      "Processing record 157 of Set | dwarka\n",
      "Processing record 158 of Set | santander\n",
      "Processing record 159 of Set | jiaojiang\n",
      "Processing record 160 of Set | verkh-suetka\n",
      "Processing record 161 of Set | castro\n",
      "Processing record 162 of Set | maningrida\n",
      "Processing record 163 of Set | ostrovnoy\n",
      "Processing record 164 of Set | san patricio\n",
      "Processing record 165 of Set | atar\n",
      "Processing record 166 of Set | mizdah\n",
      "Processing record 167 of Set | antalaha\n",
      "Processing record 168 of Set | qianan\n",
      "City not found. Skipping...\n",
      "Processing record 169 of Set | cockburn town\n",
      "Processing record 170 of Set | iqaluit\n",
      "Processing record 171 of Set | longyearbyen\n",
      "Processing record 172 of Set | lapeer\n",
      "Processing record 173 of Set | balkanabat\n",
      "Processing record 174 of Set | saint-paul\n",
      "Processing record 175 of Set | biak\n",
      "Processing record 176 of Set | meulaboh\n",
      "Processing record 177 of Set | souillac\n",
      "Processing record 178 of Set | ambon\n",
      "Processing record 179 of Set | boende\n",
      "City not found. Skipping...\n",
      "Processing record 180 of Set | shingu\n",
      "Processing record 181 of Set | kavaratti\n",
      "Processing record 182 of Set | quelimane\n",
      "Processing record 183 of Set | mahajanga\n",
      "Processing record 184 of Set | mahebourg\n",
      "Processing record 185 of Set | dunedin\n",
      "City not found. Skipping...\n",
      "Processing record 186 of Set | sinnamary\n",
      "Processing record 187 of Set | touros\n",
      "Processing record 188 of Set | talagang\n",
      "City not found. Skipping...\n",
      "Processing record 189 of Set | andenes\n",
      "City not found. Skipping...\n",
      "Processing record 190 of Set | zharkent\n",
      "Processing record 191 of Set | fort saint james\n",
      "Processing record 192 of Set | svetlogorsk\n",
      "Processing record 193 of Set | tuktoyaktuk\n",
      "Processing record 194 of Set | chany\n",
      "Processing record 195 of Set | saint-philippe\n",
      "Processing record 196 of Set | mangrol\n",
      "Processing record 197 of Set | yellowknife\n",
      "Processing record 198 of Set | tasiilaq\n",
      "Processing record 199 of Set | xining\n",
      "Processing record 200 of Set | canutama\n",
      "Processing record 201 of Set | wanning\n",
      "Processing record 202 of Set | polaniec\n",
      "Processing record 203 of Set | valparaiso\n",
      "Processing record 204 of Set | dombarovskiy\n",
      "Processing record 205 of Set | asau\n",
      "Processing record 206 of Set | eureka\n",
      "Processing record 207 of Set | arlit\n",
      "City not found. Skipping...\n",
      "City not found. Skipping...\n",
      "Processing record 208 of Set | cardston\n",
      "Processing record 209 of Set | aketi\n",
      "Processing record 210 of Set | rincon\n",
      "Processing record 211 of Set | narsaq\n",
      "Processing record 212 of Set | duiwelskloof\n",
      "Processing record 213 of Set | miramar\n",
      "Processing record 214 of Set | kaeo\n",
      "Processing record 215 of Set | gladstone\n",
      "Processing record 216 of Set | dharchula\n",
      "Processing record 217 of Set | santa rosa\n",
      "Processing record 218 of Set | maryville\n",
      "Processing record 219 of Set | cururupu\n",
      "Processing record 220 of Set | isangel\n",
      "Processing record 221 of Set | kruisfontein\n",
      "Processing record 222 of Set | manati\n",
      "Processing record 223 of Set | changli\n",
      "Processing record 224 of Set | ancud\n",
      "Processing record 225 of Set | bengkulu\n",
      "Processing record 226 of Set | chicama\n",
      "Processing record 227 of Set | gizo\n",
      "City not found. Skipping...\n",
      "Processing record 228 of Set | north myrtle beach\n",
      "Processing record 229 of Set | nikolskoye\n",
      "Processing record 230 of Set | kailua\n",
      "Processing record 231 of Set | seoul\n",
      "Processing record 232 of Set | nelspruit\n",
      "Processing record 233 of Set | luderitz\n",
      "Processing record 234 of Set | luba\n",
      "Processing record 235 of Set | burnie\n",
      "Processing record 236 of Set | jacareacanga\n",
      "Processing record 237 of Set | klaksvik\n",
      "Processing record 238 of Set | ballaghaderreen\n",
      "Processing record 239 of Set | timra\n",
      "Processing record 240 of Set | dasoguz\n",
      "Processing record 241 of Set | evensk\n",
      "Processing record 242 of Set | fukue\n",
      "Processing record 243 of Set | bathsheba\n",
      "Processing record 244 of Set | cidreira\n",
      "City not found. Skipping...\n",
      "Processing record 245 of Set | dahuk\n",
      "Processing record 246 of Set | omboue\n",
      "Processing record 247 of Set | strezhevoy\n",
      "Processing record 248 of Set | benguela\n",
      "Processing record 249 of Set | christchurch\n",
      "Processing record 250 of Set | lexington\n",
      "Processing record 251 of Set | henties bay\n",
      "City not found. Skipping...\n",
      "Processing record 252 of Set | baruun-urt\n",
      "Processing record 253 of Set | kahului\n",
      "Processing record 254 of Set | nanakuli\n",
      "City not found. Skipping...\n",
      "Processing record 255 of Set | liverpool\n",
      "Processing record 256 of Set | semnan\n",
      "Processing record 257 of Set | manggar\n",
      "Processing record 258 of Set | zyryanka\n",
      "Processing record 259 of Set | takoradi\n",
      "Processing record 260 of Set | margate\n",
      "Processing record 261 of Set | sao jose de piranhas\n",
      "Processing record 262 of Set | sosnovka\n",
      "Processing record 263 of Set | talnakh\n",
      "Processing record 264 of Set | lima\n",
      "City not found. Skipping...\n",
      "Processing record 265 of Set | pamplona\n",
      "Processing record 266 of Set | edd\n",
      "Processing record 267 of Set | nueva gorgona\n",
      "Processing record 268 of Set | voh\n",
      "Processing record 269 of Set | barstow\n",
      "Processing record 270 of Set | ferreira do alentejo\n",
      "Processing record 271 of Set | akyab\n",
      "Processing record 272 of Set | kampong thum\n",
      "Processing record 273 of Set | puerto madero\n",
      "Processing record 274 of Set | hualmay\n",
      "City not found. Skipping...\n",
      "Processing record 275 of Set | shelburne\n",
      "Processing record 276 of Set | port-gentil\n",
      "City not found. Skipping...\n",
      "Processing record 277 of Set | severnyy-kospashskiy\n",
      "Processing record 278 of Set | atherton\n",
      "Processing record 279 of Set | hobyo\n",
      "Processing record 280 of Set | paamiut\n",
      "Processing record 281 of Set | georgiyevka\n",
      "Processing record 282 of Set | namibe\n",
      "Processing record 283 of Set | sechura\n",
      "Processing record 284 of Set | mar del plata\n",
      "Processing record 285 of Set | alta floresta\n",
      "Processing record 286 of Set | broken hill\n",
      "Processing record 287 of Set | port augusta\n",
      "Processing record 288 of Set | ixtapa\n",
      "Processing record 289 of Set | helong\n",
      "Processing record 290 of Set | salekhard\n",
      "Processing record 291 of Set | shimoda\n",
      "Processing record 292 of Set | sabzevar\n",
      "Processing record 293 of Set | amur\n",
      "Processing record 294 of Set | stepnyak\n",
      "Processing record 295 of Set | matagami\n",
      "Processing record 296 of Set | marsh harbour\n",
      "Processing record 297 of Set | puerto suarez\n",
      "Processing record 298 of Set | necochea\n",
      "Processing record 299 of Set | grindavik\n",
      "City not found. Skipping...\n",
      "Processing record 300 of Set | sao joao da barra\n",
      "Processing record 301 of Set | sitka\n",
      "Processing record 302 of Set | oksbol\n",
      "Processing record 303 of Set | maragogi\n",
      "City not found. Skipping...\n",
      "Processing record 304 of Set | kyra\n",
      "Processing record 305 of Set | geraldton\n",
      "Processing record 306 of Set | mercedes\n",
      "Processing record 307 of Set | hartford\n",
      "Processing record 308 of Set | rosarito\n",
      "Processing record 309 of Set | lagoa\n",
      "Processing record 310 of Set | japura\n",
      "Processing record 311 of Set | shillong\n",
      "City not found. Skipping...\n",
      "Processing record 312 of Set | zhigansk\n",
      "Processing record 313 of Set | dongsheng\n",
      "Processing record 314 of Set | paracuru\n",
      "Processing record 315 of Set | victoria\n",
      "Processing record 316 of Set | katherine\n",
      "Processing record 317 of Set | alibag\n",
      "Processing record 318 of Set | north bend\n",
      "Processing record 319 of Set | davila\n",
      "Processing record 320 of Set | roald\n",
      "Processing record 321 of Set | issaquah\n",
      "Processing record 322 of Set | kisaran\n",
      "Processing record 323 of Set | yangjiang\n",
      "Processing record 324 of Set | lebu\n",
      "Processing record 325 of Set | katsuura\n",
      "Processing record 326 of Set | amahai\n",
      "Processing record 327 of Set | te anau\n",
      "Processing record 328 of Set | vostok\n",
      "Processing record 329 of Set | douala\n",
      "Processing record 330 of Set | balsas\n",
      "Processing record 331 of Set | kitimat\n",
      "Processing record 332 of Set | tucuman\n",
      "City not found. Skipping...\n",
      "Processing record 333 of Set | khasan\n",
      "Processing record 334 of Set | baykit\n",
      "Processing record 335 of Set | hinatuan\n",
      "Processing record 336 of Set | ust-nera\n",
      "Processing record 337 of Set | ridgecrest\n",
      "Processing record 338 of Set | northam\n",
      "Processing record 339 of Set | sisimiut\n",
      "Processing record 340 of Set | tigil\n",
      "Processing record 341 of Set | carutapera\n",
      "Processing record 342 of Set | soe\n",
      "Processing record 343 of Set | hami\n",
      "Processing record 344 of Set | caravelas\n",
      "Processing record 345 of Set | la ronge\n",
      "Processing record 346 of Set | batticaloa\n",
      "Processing record 347 of Set | toamasina\n",
      "Processing record 348 of Set | farafangana\n",
      "Processing record 349 of Set | khatanga\n",
      "Processing record 350 of Set | nome\n",
      "Processing record 351 of Set | havelock\n",
      "Processing record 352 of Set | demyanovo\n",
      "Processing record 353 of Set | calvinia\n",
      "Processing record 354 of Set | nabire\n",
      "Processing record 355 of Set | guarapuava\n",
      "Processing record 356 of Set | pleasanton\n",
      "Processing record 357 of Set | sirnak\n",
      "Processing record 358 of Set | mahwa\n",
      "Processing record 359 of Set | stykkisholmur\n",
      "Processing record 360 of Set | salta\n",
      "Processing record 361 of Set | curuca\n",
      "Processing record 362 of Set | le port\n",
      "Processing record 363 of Set | egvekinot\n",
      "Processing record 364 of Set | sioux lookout\n",
      "Processing record 365 of Set | eydhafushi\n",
      "Processing record 366 of Set | swellendam\n",
      "Processing record 367 of Set | bani\n",
      "Processing record 368 of Set | monrovia\n",
      "Processing record 369 of Set | nuuk\n",
      "Processing record 370 of Set | kudahuvadhoo\n",
      "Processing record 371 of Set | boguchany\n",
      "Processing record 372 of Set | bocas del toro\n",
      "Processing record 373 of Set | el seibo\n",
      "Processing record 374 of Set | ketchikan\n",
      "Processing record 375 of Set | lorengau\n",
      "City not found. Skipping...\n",
      "Processing record 376 of Set | la asuncion\n",
      "Processing record 377 of Set | bestobe\n",
      "Processing record 378 of Set | puri\n",
      "Processing record 379 of Set | betafo\n",
      "Processing record 380 of Set | elban\n",
      "Processing record 381 of Set | tomatlan\n",
      "Processing record 382 of Set | keti bandar\n",
      "Processing record 383 of Set | waipawa\n",
      "Processing record 384 of Set | doha\n",
      "Processing record 385 of Set | tarakan\n",
      "Processing record 386 of Set | ambilobe\n",
      "Processing record 387 of Set | hokitika\n",
      "City not found. Skipping...\n",
      "Processing record 388 of Set | bambanglipuro\n",
      "Processing record 389 of Set | hit\n",
      "Processing record 390 of Set | tual\n",
      "Processing record 391 of Set | kedrovyy\n",
      "Processing record 392 of Set | koscierzyna\n",
      "Processing record 393 of Set | vila franca do campo\n",
      "Processing record 394 of Set | cotonou\n",
      "Processing record 395 of Set | sant julia de loria\n",
      "Processing record 396 of Set | vardo\n",
      "Processing record 397 of Set | una\n",
      "Processing record 398 of Set | nioki\n",
      "Processing record 399 of Set | smithers\n",
      "Processing record 400 of Set | saint george\n",
      "Processing record 401 of Set | camocim\n",
      "Processing record 402 of Set | urdoma\n",
      "City not found. Skipping...\n",
      "Processing record 403 of Set | labuhan\n",
      "Processing record 404 of Set | mahad\n",
      "Processing record 405 of Set | sur\n",
      "Processing record 406 of Set | champerico\n",
      "Processing record 407 of Set | coihaique\n",
      "Processing record 408 of Set | tanout\n",
      "Processing record 409 of Set | paita\n",
      "Processing record 410 of Set | aklavik\n",
      "Processing record 411 of Set | norman wells\n",
      "Processing record 412 of Set | batagay\n",
      "Processing record 413 of Set | mount gambier\n",
      "Processing record 414 of Set | harrisonburg\n",
      "Processing record 415 of Set | puerto del rosario\n",
      "Processing record 416 of Set | kysyl-syr\n",
      "Processing record 417 of Set | marawi\n",
      "Processing record 418 of Set | mukhen\n",
      "Processing record 419 of Set | coquimbo\n",
      "Processing record 420 of Set | mayo\n",
      "Processing record 421 of Set | caxito\n",
      "Processing record 422 of Set | abucayan\n",
      "Processing record 423 of Set | nikel\n",
      "Processing record 424 of Set | makushino\n",
      "Processing record 425 of Set | gorontalo\n",
      "Processing record 426 of Set | west wendover\n",
      "Processing record 427 of Set | alyangula\n",
      "Processing record 428 of Set | elizabeth city\n",
      "Processing record 429 of Set | norton shores\n",
      "Processing record 430 of Set | olafsvik\n",
      "Processing record 431 of Set | tupik\n",
      "Processing record 432 of Set | atasu\n",
      "Processing record 433 of Set | bandarbeyla\n",
      "Processing record 434 of Set | glendive\n",
      "Processing record 435 of Set | port macquarie\n",
      "Processing record 436 of Set | port hedland\n",
      "Processing record 437 of Set | watrous\n",
      "Processing record 438 of Set | saint stephen\n",
      "Processing record 439 of Set | ugep\n",
      "Processing record 440 of Set | camacha\n",
      "Processing record 441 of Set | isla mujeres\n",
      "Processing record 442 of Set | avera\n",
      "Processing record 443 of Set | zhanakorgan\n",
      "Processing record 444 of Set | horasan\n",
      "Processing record 445 of Set | rundu\n",
      "City not found. Skipping...\n",
      "Processing record 446 of Set | san juan\n",
      "City not found. Skipping...\n",
      "Processing record 447 of Set | mandla\n",
      "City not found. Skipping...\n",
      "Processing record 448 of Set | ostrozac\n",
      "Processing record 449 of Set | bindi\n",
      "Processing record 450 of Set | namie\n",
      "Processing record 451 of Set | laukaa\n",
      "Processing record 452 of Set | kushima\n",
      "Processing record 453 of Set | jamame\n",
      "Processing record 454 of Set | gunjur\n",
      "Processing record 455 of Set | kirakira\n",
      "Processing record 456 of Set | nis\n",
      "Processing record 457 of Set | ta khmau\n",
      "Processing record 458 of Set | pemagatsel\n",
      "Processing record 459 of Set | palana\n",
      "Processing record 460 of Set | redmond\n",
      "City not found. Skipping...\n",
      "Processing record 461 of Set | beira\n",
      "Processing record 462 of Set | diamantino\n",
      "Processing record 463 of Set | ipixuna\n",
      "Processing record 464 of Set | mareeba\n",
      "Processing record 465 of Set | yulara\n",
      "Processing record 466 of Set | mafinga\n",
      "Processing record 467 of Set | turochak\n",
      "Processing record 468 of Set | gobabis\n",
      "Processing record 469 of Set | bowen\n",
      "Processing record 470 of Set | soligalich\n",
      "Processing record 471 of Set | khor\n",
      "Processing record 472 of Set | grand gaube\n",
      "Processing record 473 of Set | komsomolskiy\n",
      "Processing record 474 of Set | vodnyy\n",
      "Processing record 475 of Set | tuatapere\n",
      "Processing record 476 of Set | bethlehem\n",
      "Processing record 477 of Set | zakamensk\n",
      "Processing record 478 of Set | stony plain\n",
      "Processing record 479 of Set | moose factory\n",
      "Processing record 480 of Set | chifeng\n",
      "Processing record 481 of Set | bhuj\n",
      "Processing record 482 of Set | venustiano carranza\n",
      "Processing record 483 of Set | teguldet\n",
      "Processing record 484 of Set | katobu\n",
      "Processing record 485 of Set | rawson\n",
      "Processing record 486 of Set | tagusao\n",
      "Processing record 487 of Set | coahuayana\n",
      "Processing record 488 of Set | ucluelet\n",
      "Processing record 489 of Set | kabare\n",
      "Processing record 490 of Set | laizhou\n",
      "Processing record 491 of Set | yenagoa\n",
      "Processing record 492 of Set | amalapuram\n",
      "Processing record 493 of Set | esna\n",
      "Processing record 494 of Set | maarianhamina\n",
      "Processing record 495 of Set | great falls\n",
      "Processing record 496 of Set | ivanivka\n",
      "Processing record 497 of Set | sterling\n",
      "Processing record 498 of Set | megion\n",
      "Processing record 499 of Set | cartagena\n",
      "Processing record 500 of Set | medicine hat\n",
      "Processing record 501 of Set | capao bonito\n",
      "Processing record 502 of Set | sevlievo\n",
      "Processing record 503 of Set | cheyenne\n",
      "Processing record 504 of Set | tiganasi\n",
      "Processing record 505 of Set | dingle\n",
      "Processing record 506 of Set | quatre cocos\n",
      "City not found. Skipping...\n",
      "City not found. Skipping...\n",
      "Processing record 507 of Set | denpasar\n",
      "Processing record 508 of Set | macheng\n",
      "Processing record 509 of Set | asfi\n",
      "Processing record 510 of Set | wawa\n",
      "Processing record 511 of Set | college\n",
      "Processing record 512 of Set | singarayakonda\n",
      "Processing record 513 of Set | lahat\n",
      "Processing record 514 of Set | lodwar\n",
      "Processing record 515 of Set | tiarei\n",
      "Processing record 516 of Set | sorong\n",
      "Processing record 517 of Set | stranda\n",
      "Processing record 518 of Set | caxias\n",
      "Processing record 519 of Set | viedma\n",
      "Processing record 520 of Set | uspenka\n",
      "Processing record 521 of Set | ust-maya\n",
      "Processing record 522 of Set | lavrentiya\n",
      "Processing record 523 of Set | grand baie\n",
      "Processing record 524 of Set | teeli\n",
      "Processing record 525 of Set | mogadishu\n",
      "Processing record 526 of Set | tshikapa\n",
      "Processing record 527 of Set | riyadh\n",
      "Processing record 528 of Set | matay\n",
      "Processing record 529 of Set | oistins\n",
      "City not found. Skipping...\n",
      "Processing record 530 of Set | aykhal\n",
      "Processing record 531 of Set | fort nelson\n",
      "Processing record 532 of Set | kastamonu\n",
      "Processing record 533 of Set | mayor pablo lagerenza\n",
      "Processing record 534 of Set | de-kastri\n",
      "Processing record 535 of Set | hambantota\n",
      "Processing record 536 of Set | linshui\n",
      "Processing record 537 of Set | santa pola\n",
      "Processing record 538 of Set | general pico\n",
      "Processing record 539 of Set | belaya gora\n",
      "Processing record 540 of Set | darhan\n",
      "Processing record 541 of Set | mae sai\n",
      "Processing record 542 of Set | robore\n",
      "Processing record 543 of Set | lucea\n",
      "Processing record 544 of Set | daru\n",
      "Processing record 545 of Set | kuandian\n",
      "Processing record 546 of Set | asifabad\n",
      "Processing record 547 of Set | muisne\n",
      "Processing record 548 of Set | saint-georges\n",
      "Processing record 549 of Set | dotnuva\n",
      "Processing record 550 of Set | asyut\n",
      "Processing record 551 of Set | luganville\n",
      "Processing record 552 of Set | lokosovo\n",
      "Processing record 553 of Set | george\n",
      "Processing record 554 of Set | santa maria\n",
      "Processing record 555 of Set | saint-denis\n",
      "Processing record 556 of Set | nibbar\n",
      "Processing record 557 of Set | leningradskiy\n",
      "Processing record 558 of Set | marblehead\n",
      "Processing record 559 of Set | laguna\n",
      "Processing record 560 of Set | visnes\n",
      "Processing record 561 of Set | yar-sale\n",
      "Processing record 562 of Set | torres\n",
      "Processing record 563 of Set | upata\n",
      "Processing record 564 of Set | teguise\n",
      "Processing record 565 of Set | hampton\n",
      "Processing record 566 of Set | oga\n",
      "Processing record 567 of Set | rovaniemi\n",
      "Processing record 568 of Set | altay\n"
     ]
    }
   ],
   "source": [
    "url = \"http://api.openweathermap.org/data/2.5/weather?\"\n",
    "cities_data = []\n",
    "cities_name = []\n",
    "cities_lat = []\n",
    "cities_lng = []\n",
    "cities_max = []\n",
    "cities_hum = []\n",
    "cities_cloud = []\n",
    "cities_wind = []\n",
    "cities_country = []\n",
    "cities_date = []\n",
    "\n",
    "for city in cities:\n",
    "    try:\n",
    "        response = requests.get(f\"{url}q={city}&appid={weather_api_key}&units=imperial\").json()\n",
    "        cities_name.append(response[\"name\"])\n",
    "        cities_lat.append(response[\"coord\"][\"lat\"])\n",
    "        cities_lng.append(response[\"coord\"][\"lon\"])\n",
    "        cities_max.append(response[\"main\"][\"temp_max\"])\n",
    "        cities_hum.append(response[\"main\"][\"humidity\"])\n",
    "        cities_cloud.append(response[\"clouds\"][\"all\"])\n",
    "        cities_wind.append(response[\"wind\"][\"speed\"])\n",
    "        cities_country.append(response[\"sys\"][\"country\"])\n",
    "        cities_date.append(response[\"dt\"])\n",
    "        cities_data.append(response)\n",
    "        print(f\"Processing record {cities_data.index(response) + 1} of Set | {city}\")\n",
    "    except:\n",
    "        print(f\"City not found. Skipping...\")"
   ]
  },
  {
   "cell_type": "markdown",
   "metadata": {},
   "source": [
    "### Convert Raw Data to DataFrame\n",
    "* Export the city data into a .csv.\n",
    "* Display the DataFrame"
   ]
  },
  {
   "cell_type": "code",
   "execution_count": 4,
   "metadata": {},
   "outputs": [
    {
     "data": {
      "text/html": [
       "<div>\n",
       "<style scoped>\n",
       "    .dataframe tbody tr th:only-of-type {\n",
       "        vertical-align: middle;\n",
       "    }\n",
       "\n",
       "    .dataframe tbody tr th {\n",
       "        vertical-align: top;\n",
       "    }\n",
       "\n",
       "    .dataframe thead th {\n",
       "        text-align: right;\n",
       "    }\n",
       "</style>\n",
       "<table border=\"1\" class=\"dataframe\">\n",
       "  <thead>\n",
       "    <tr style=\"text-align: right;\">\n",
       "      <th></th>\n",
       "      <th>City</th>\n",
       "      <th>Lat</th>\n",
       "      <th>Lng</th>\n",
       "      <th>Max Temp</th>\n",
       "      <th>Humidity</th>\n",
       "      <th>Cloudiness</th>\n",
       "      <th>Wind Speed</th>\n",
       "      <th>Country</th>\n",
       "      <th>Date</th>\n",
       "    </tr>\n",
       "  </thead>\n",
       "  <tbody>\n",
       "    <tr>\n",
       "      <th>0</th>\n",
       "      <td>Hay River</td>\n",
       "      <td>60.8156</td>\n",
       "      <td>-115.7999</td>\n",
       "      <td>24.80</td>\n",
       "      <td>68</td>\n",
       "      <td>100</td>\n",
       "      <td>3.44</td>\n",
       "      <td>CA</td>\n",
       "      <td>1616139753</td>\n",
       "    </tr>\n",
       "    <tr>\n",
       "      <th>1</th>\n",
       "      <td>Faanui</td>\n",
       "      <td>-16.4833</td>\n",
       "      <td>-151.7500</td>\n",
       "      <td>82.38</td>\n",
       "      <td>66</td>\n",
       "      <td>2</td>\n",
       "      <td>5.30</td>\n",
       "      <td>PF</td>\n",
       "      <td>1616139753</td>\n",
       "    </tr>\n",
       "    <tr>\n",
       "      <th>2</th>\n",
       "      <td>Constitución</td>\n",
       "      <td>-35.3333</td>\n",
       "      <td>-72.4167</td>\n",
       "      <td>51.48</td>\n",
       "      <td>86</td>\n",
       "      <td>0</td>\n",
       "      <td>3.71</td>\n",
       "      <td>CL</td>\n",
       "      <td>1616139656</td>\n",
       "    </tr>\n",
       "    <tr>\n",
       "      <th>3</th>\n",
       "      <td>Busselton</td>\n",
       "      <td>-33.6500</td>\n",
       "      <td>115.3333</td>\n",
       "      <td>91.99</td>\n",
       "      <td>24</td>\n",
       "      <td>98</td>\n",
       "      <td>1.99</td>\n",
       "      <td>AU</td>\n",
       "      <td>1616139699</td>\n",
       "    </tr>\n",
       "    <tr>\n",
       "      <th>4</th>\n",
       "      <td>Kavieng</td>\n",
       "      <td>-2.5744</td>\n",
       "      <td>150.7967</td>\n",
       "      <td>83.77</td>\n",
       "      <td>73</td>\n",
       "      <td>90</td>\n",
       "      <td>6.96</td>\n",
       "      <td>PG</td>\n",
       "      <td>1616139754</td>\n",
       "    </tr>\n",
       "    <tr>\n",
       "      <th>...</th>\n",
       "      <td>...</td>\n",
       "      <td>...</td>\n",
       "      <td>...</td>\n",
       "      <td>...</td>\n",
       "      <td>...</td>\n",
       "      <td>...</td>\n",
       "      <td>...</td>\n",
       "      <td>...</td>\n",
       "      <td>...</td>\n",
       "    </tr>\n",
       "    <tr>\n",
       "      <th>563</th>\n",
       "      <td>Teguise</td>\n",
       "      <td>29.0605</td>\n",
       "      <td>-13.5640</td>\n",
       "      <td>62.60</td>\n",
       "      <td>72</td>\n",
       "      <td>20</td>\n",
       "      <td>10.36</td>\n",
       "      <td>ES</td>\n",
       "      <td>1616139909</td>\n",
       "    </tr>\n",
       "    <tr>\n",
       "      <th>564</th>\n",
       "      <td>Hampton</td>\n",
       "      <td>37.0299</td>\n",
       "      <td>-76.3452</td>\n",
       "      <td>48.99</td>\n",
       "      <td>100</td>\n",
       "      <td>90</td>\n",
       "      <td>16.11</td>\n",
       "      <td>US</td>\n",
       "      <td>1616139909</td>\n",
       "    </tr>\n",
       "    <tr>\n",
       "      <th>565</th>\n",
       "      <td>Oga</td>\n",
       "      <td>46.4631</td>\n",
       "      <td>10.3470</td>\n",
       "      <td>41.00</td>\n",
       "      <td>85</td>\n",
       "      <td>40</td>\n",
       "      <td>2.13</td>\n",
       "      <td>IT</td>\n",
       "      <td>1616139909</td>\n",
       "    </tr>\n",
       "    <tr>\n",
       "      <th>566</th>\n",
       "      <td>Rovaniemi</td>\n",
       "      <td>66.5000</td>\n",
       "      <td>25.7167</td>\n",
       "      <td>10.40</td>\n",
       "      <td>85</td>\n",
       "      <td>0</td>\n",
       "      <td>4.61</td>\n",
       "      <td>FI</td>\n",
       "      <td>1616139910</td>\n",
       "    </tr>\n",
       "    <tr>\n",
       "      <th>567</th>\n",
       "      <td>Altay</td>\n",
       "      <td>47.8667</td>\n",
       "      <td>88.1167</td>\n",
       "      <td>21.13</td>\n",
       "      <td>64</td>\n",
       "      <td>0</td>\n",
       "      <td>0.76</td>\n",
       "      <td>CN</td>\n",
       "      <td>1616139703</td>\n",
       "    </tr>\n",
       "  </tbody>\n",
       "</table>\n",
       "<p>568 rows × 9 columns</p>\n",
       "</div>"
      ],
      "text/plain": [
       "             City      Lat       Lng  Max Temp  Humidity  Cloudiness  \\\n",
       "0       Hay River  60.8156 -115.7999     24.80        68         100   \n",
       "1          Faanui -16.4833 -151.7500     82.38        66           2   \n",
       "2    Constitución -35.3333  -72.4167     51.48        86           0   \n",
       "3       Busselton -33.6500  115.3333     91.99        24          98   \n",
       "4         Kavieng  -2.5744  150.7967     83.77        73          90   \n",
       "..            ...      ...       ...       ...       ...         ...   \n",
       "563       Teguise  29.0605  -13.5640     62.60        72          20   \n",
       "564       Hampton  37.0299  -76.3452     48.99       100          90   \n",
       "565           Oga  46.4631   10.3470     41.00        85          40   \n",
       "566     Rovaniemi  66.5000   25.7167     10.40        85           0   \n",
       "567         Altay  47.8667   88.1167     21.13        64           0   \n",
       "\n",
       "     Wind Speed Country        Date  \n",
       "0          3.44      CA  1616139753  \n",
       "1          5.30      PF  1616139753  \n",
       "2          3.71      CL  1616139656  \n",
       "3          1.99      AU  1616139699  \n",
       "4          6.96      PG  1616139754  \n",
       "..          ...     ...         ...  \n",
       "563       10.36      ES  1616139909  \n",
       "564       16.11      US  1616139909  \n",
       "565        2.13      IT  1616139909  \n",
       "566        4.61      FI  1616139910  \n",
       "567        0.76      CN  1616139703  \n",
       "\n",
       "[568 rows x 9 columns]"
      ]
     },
     "execution_count": 4,
     "metadata": {},
     "output_type": "execute_result"
    }
   ],
   "source": [
    "cities_df = pd.DataFrame({\n",
    "        \"City\": cities_name,\n",
    "        \"Lat\": cities_lat,\n",
    "        \"Lng\": cities_lng,\n",
    "        \"Max Temp\": cities_max,\n",
    "        \"Humidity\": cities_hum,\n",
    "        \"Cloudiness\": cities_cloud,\n",
    "        \"Wind Speed\": cities_wind,\n",
    "        \"Country\": cities_country,\n",
    "        \"Date\": cities_date\n",
    "})\n",
    "\n",
    "cities_df.to_csv(\"./Cities_Weather_Data.csv\", index=False, header=True)\n",
    "\n",
    "cities_df"
   ]
  },
  {
   "cell_type": "code",
   "execution_count": 5,
   "metadata": {},
   "outputs": [
    {
     "data": {
      "text/html": [
       "<div>\n",
       "<style scoped>\n",
       "    .dataframe tbody tr th:only-of-type {\n",
       "        vertical-align: middle;\n",
       "    }\n",
       "\n",
       "    .dataframe tbody tr th {\n",
       "        vertical-align: top;\n",
       "    }\n",
       "\n",
       "    .dataframe thead th {\n",
       "        text-align: right;\n",
       "    }\n",
       "</style>\n",
       "<table border=\"1\" class=\"dataframe\">\n",
       "  <thead>\n",
       "    <tr style=\"text-align: right;\">\n",
       "      <th></th>\n",
       "      <th>Lat</th>\n",
       "      <th>Lng</th>\n",
       "      <th>Max Temp</th>\n",
       "      <th>Humidity</th>\n",
       "      <th>Cloudiness</th>\n",
       "      <th>Wind Speed</th>\n",
       "      <th>Date</th>\n",
       "    </tr>\n",
       "  </thead>\n",
       "  <tbody>\n",
       "    <tr>\n",
       "      <th>count</th>\n",
       "      <td>568.000000</td>\n",
       "      <td>568.000000</td>\n",
       "      <td>568.000000</td>\n",
       "      <td>568.000000</td>\n",
       "      <td>568.000000</td>\n",
       "      <td>568.000000</td>\n",
       "      <td>5.680000e+02</td>\n",
       "    </tr>\n",
       "    <tr>\n",
       "      <th>mean</th>\n",
       "      <td>19.660631</td>\n",
       "      <td>20.192589</td>\n",
       "      <td>55.755370</td>\n",
       "      <td>71.184859</td>\n",
       "      <td>53.271127</td>\n",
       "      <td>8.152570</td>\n",
       "      <td>1.616140e+09</td>\n",
       "    </tr>\n",
       "    <tr>\n",
       "      <th>std</th>\n",
       "      <td>33.547267</td>\n",
       "      <td>92.093491</td>\n",
       "      <td>27.577208</td>\n",
       "      <td>20.957738</td>\n",
       "      <td>39.807700</td>\n",
       "      <td>5.584403</td>\n",
       "      <td>8.552840e+01</td>\n",
       "    </tr>\n",
       "    <tr>\n",
       "      <th>min</th>\n",
       "      <td>-54.800000</td>\n",
       "      <td>-179.166700</td>\n",
       "      <td>-27.810000</td>\n",
       "      <td>8.000000</td>\n",
       "      <td>0.000000</td>\n",
       "      <td>0.560000</td>\n",
       "      <td>1.616139e+09</td>\n",
       "    </tr>\n",
       "    <tr>\n",
       "      <th>25%</th>\n",
       "      <td>-8.675550</td>\n",
       "      <td>-61.911100</td>\n",
       "      <td>35.600000</td>\n",
       "      <td>60.000000</td>\n",
       "      <td>4.000000</td>\n",
       "      <td>3.995000</td>\n",
       "      <td>1.616140e+09</td>\n",
       "    </tr>\n",
       "    <tr>\n",
       "      <th>50%</th>\n",
       "      <td>22.157300</td>\n",
       "      <td>25.341850</td>\n",
       "      <td>62.600000</td>\n",
       "      <td>75.000000</td>\n",
       "      <td>62.500000</td>\n",
       "      <td>6.910000</td>\n",
       "      <td>1.616140e+09</td>\n",
       "    </tr>\n",
       "    <tr>\n",
       "      <th>75%</th>\n",
       "      <td>48.392750</td>\n",
       "      <td>102.696575</td>\n",
       "      <td>78.587500</td>\n",
       "      <td>87.000000</td>\n",
       "      <td>91.000000</td>\n",
       "      <td>11.345000</td>\n",
       "      <td>1.616140e+09</td>\n",
       "    </tr>\n",
       "    <tr>\n",
       "      <th>max</th>\n",
       "      <td>78.218600</td>\n",
       "      <td>178.416700</td>\n",
       "      <td>103.480000</td>\n",
       "      <td>100.000000</td>\n",
       "      <td>100.000000</td>\n",
       "      <td>31.070000</td>\n",
       "      <td>1.616140e+09</td>\n",
       "    </tr>\n",
       "  </tbody>\n",
       "</table>\n",
       "</div>"
      ],
      "text/plain": [
       "              Lat         Lng    Max Temp    Humidity  Cloudiness  Wind Speed  \\\n",
       "count  568.000000  568.000000  568.000000  568.000000  568.000000  568.000000   \n",
       "mean    19.660631   20.192589   55.755370   71.184859   53.271127    8.152570   \n",
       "std     33.547267   92.093491   27.577208   20.957738   39.807700    5.584403   \n",
       "min    -54.800000 -179.166700  -27.810000    8.000000    0.000000    0.560000   \n",
       "25%     -8.675550  -61.911100   35.600000   60.000000    4.000000    3.995000   \n",
       "50%     22.157300   25.341850   62.600000   75.000000   62.500000    6.910000   \n",
       "75%     48.392750  102.696575   78.587500   87.000000   91.000000   11.345000   \n",
       "max     78.218600  178.416700  103.480000  100.000000  100.000000   31.070000   \n",
       "\n",
       "               Date  \n",
       "count  5.680000e+02  \n",
       "mean   1.616140e+09  \n",
       "std    8.552840e+01  \n",
       "min    1.616139e+09  \n",
       "25%    1.616140e+09  \n",
       "50%    1.616140e+09  \n",
       "75%    1.616140e+09  \n",
       "max    1.616140e+09  "
      ]
     },
     "execution_count": 5,
     "metadata": {},
     "output_type": "execute_result"
    }
   ],
   "source": [
    "cities_df.describe()"
   ]
  },
  {
   "cell_type": "markdown",
   "metadata": {},
   "source": [
    "## Inspect the data and remove the cities where the humidity > 100%.\n",
    "----\n",
    "Skip this step if there are no cities that have humidity > 100%. "
   ]
  },
  {
   "cell_type": "code",
   "execution_count": null,
   "metadata": {},
   "outputs": [],
   "source": []
  },
  {
   "cell_type": "code",
   "execution_count": 6,
   "metadata": {},
   "outputs": [],
   "source": [
    "#  Get the indices of cities that have humidity over 100%.\n"
   ]
  },
  {
   "cell_type": "code",
   "execution_count": 7,
   "metadata": {},
   "outputs": [],
   "source": [
    "# Make a new DataFrame equal to the city data to drop all humidity outliers by index.\n",
    "# Passing \"inplace=False\" will make a copy of the city_data DataFrame, which we call \"clean_city_data\".\n"
   ]
  },
  {
   "cell_type": "code",
   "execution_count": null,
   "metadata": {},
   "outputs": [],
   "source": [
    "\n"
   ]
  },
  {
   "cell_type": "markdown",
   "metadata": {},
   "source": [
    "## Plotting the Data\n",
    "* Use proper labeling of the plots using plot titles (including date of analysis) and axes labels.\n",
    "* Save the plotted figures as .pngs."
   ]
  },
  {
   "cell_type": "markdown",
   "metadata": {},
   "source": [
    "## Latitude vs. Temperature Plot"
   ]
  },
  {
   "cell_type": "code",
   "execution_count": 8,
   "metadata": {
    "scrolled": true
   },
   "outputs": [
    {
     "data": {
      "image/png": "[encoded data removed]",
      "text/plain": [
       "<Figure size 432x288 with 1 Axes>"
      ]
     },
     "metadata": {
      "needs_background": "light"
     },
     "output_type": "display_data"
    },
    {
     "data": {
      "text/plain": [
       "<Figure size 432x288 with 0 Axes>"
      ]
     },
     "metadata": {},
     "output_type": "display_data"
    }
   ],
   "source": [
    "plt.scatter(cities_df[\"Lat\"],cities_df[\"Max Temp\"])\n",
    "plt.xlabel(\"Latitude\")\n",
    "plt.ylabel(\"Max Temperature (F)\")\n",
    "plt.title(\"Latitude vs. Max Temperature\")\n",
    "plt.grid()\n",
    "\n",
    "plt.show()\n",
    "\n",
    "plt.savefig('LatVMaxTemp.png')"
   ]
  },
  {
   "cell_type": "markdown",
   "metadata": {},
   "source": [
    "## Latitude vs. Humidity Plot"
   ]
  },
  {
   "cell_type": "code",
   "execution_count": 9,
   "metadata": {},
   "outputs": [
    {
     "data": {
      "image/png": "[encoded data removed]",
      "text/plain": [
       "<Figure size 432x288 with 1 Axes>"
      ]
     },
     "metadata": {
      "needs_background": "light"
     },
     "output_type": "display_data"
    },
    {
     "data": {
      "text/plain": [
       "<Figure size 432x288 with 0 Axes>"
      ]
     },
     "metadata": {},
     "output_type": "display_data"
    }
   ],
   "source": [
    "plt.scatter(cities_df[\"Lat\"],cities_df[\"Humidity\"])\n",
    "plt.xlabel(\"Latitude\")\n",
    "plt.ylabel(\"Humidity\")\n",
    "plt.title(\"Latitude vs. Humidity\")\n",
    "plt.grid()\n",
    "\n",
    "plt.show()\n",
    "\n",
    "plt.savefig('LatVHum.png')"
   ]
  },
  {
   "cell_type": "markdown",
   "metadata": {},
   "source": [
    "## Latitude vs. Cloudiness Plot"
   ]
  },
  {
   "cell_type": "code",
   "execution_count": 10,
   "metadata": {},
   "outputs": [
    {
     "data": {
      "image/png": "[encoded data removed]",
      "text/plain": [
       "<Figure size 432x288 with 1 Axes>"
      ]
     },
     "metadata": {
      "needs_background": "light"
     },
     "output_type": "display_data"
    },
    {
     "data": {
      "text/plain": [
       "<Figure size 432x288 with 0 Axes>"
      ]
     },
     "metadata": {},
     "output_type": "display_data"
    }
   ],
   "source": [
    "plt.scatter(cities_df[\"Lat\"],cities_df[\"Cloudiness\"])\n",
    "plt.xlabel(\"Latitude\")\n",
    "plt.ylabel(\"Cloudiness\")\n",
    "plt.title(\"Latitude vs. Cloudiness\")\n",
    "plt.grid()\n",
    "\n",
    "plt.show()\n",
    "\n",
    "plt.savefig('LatVCloud.png')"
   ]
  },
  {
   "cell_type": "markdown",
   "metadata": {},
   "source": [
    "## Latitude vs. Wind Speed Plot"
   ]
  },
  {
   "cell_type": "code",
   "execution_count": 11,
   "metadata": {},
   "outputs": [
    {
     "data": {
      "image/png": "[encoded data removed]",
      "text/plain": [
       "<Figure size 432x288 with 1 Axes>"
      ]
     },
     "metadata": {
      "needs_background": "light"
     },
     "output_type": "display_data"
    },
    {
     "data": {
      "text/plain": [
       "<Figure size 432x288 with 0 Axes>"
      ]
     },
     "metadata": {},
     "output_type": "display_data"
    }
   ],
   "source": [
    "plt.scatter(cities_df[\"Lat\"],cities_df[\"Wind Speed\"])\n",
    "plt.xlabel(\"Latitude\")\n",
    "plt.ylabel(\"Wind Speed\")\n",
    "plt.title(\"Latitude vs. Wind Speed\")\n",
    "plt.grid()\n",
    "\n",
    "plt.show()\n",
    "\n",
    "plt.savefig('LatVWind.png')"
   ]
  },
  {
   "cell_type": "markdown",
   "metadata": {},
   "source": [
    "## Linear Regression"
   ]
  },
  {
   "cell_type": "code",
   "execution_count": 12,
   "metadata": {},
   "outputs": [],
   "source": [
    "north_df = cities_df.loc[cities_df[\"Lat\"] > 0]\n",
    "south_df = cities_df.loc[cities_df[\"Lat\"] < 0]"
   ]
  },
  {
   "cell_type": "markdown",
   "metadata": {},
   "source": [
    "####  Northern Hemisphere - Max Temp vs. Latitude Linear Regression"
   ]
  },
  {
   "cell_type": "code",
   "execution_count": 13,
   "metadata": {},
   "outputs": [
    {
     "name": "stdout",
     "output_type": "stream",
     "text": [
      "y = -1.31x + 98.78\n",
      "The r-value is: -0.8915632067254562\n"
     ]
    },
    {
     "data": {
      "image/png": "[encoded data removed]",
      "text/plain": [
       "<Figure size 432x288 with 1 Axes>"
      ]
     },
     "metadata": {
      "needs_background": "light"
     },
     "output_type": "display_data"
    }
   ],
   "source": [
    "plt.scatter(north_df[\"Lat\"],north_df[\"Max Temp\"])\n",
    "plt.xlabel(\"Latitude\")\n",
    "plt.ylabel(\"Max Temperature\")\n",
    "\n",
    "(slope, intercept, r, p, std) = linregress(north_df[\"Lat\"],north_df[\"Max Temp\"])\n",
    "regress_values = north_df[\"Lat\"] * slope + intercept\n",
    "line_eq = \"y = \" + str(round(slope,2)) + \"x + \" + str(round(intercept,2))\n",
    "plt.plot(north_df[\"Lat\"],regress_values,\"r-\")\n",
    "print(line_eq)\n",
    "print(f\"The r-value is: {r}\")\n",
    "\n",
    "plt.show()"
   ]
  },
  {
   "cell_type": "markdown",
   "metadata": {},
   "source": [
    "####  Southern Hemisphere - Max Temp vs. Latitude Linear Regression"
   ]
  },
  {
   "cell_type": "code",
   "execution_count": 14,
   "metadata": {},
   "outputs": [
    {
     "name": "stdout",
     "output_type": "stream",
     "text": [
      "y = 0.54x + 84.36\n",
      "The r-value is: 0.6525593290252962\n"
     ]
    },
    {
     "data": {
      "image/png": "[encoded data removed]",
      "text/plain": [
       "<Figure size 432x288 with 1 Axes>"
      ]
     },
     "metadata": {
      "needs_background": "light"
     },
     "output_type": "display_data"
    }
   ],
   "source": [
    "plt.scatter(south_df[\"Lat\"],south_df[\"Max Temp\"])\n",
    "plt.xlabel(\"Latitude\")\n",
    "plt.ylabel(\"Max Temperature\")\n",
    "\n",
    "(slope, intercept, r, p, std) = linregress(south_df[\"Lat\"],south_df[\"Max Temp\"])\n",
    "regress_values = south_df[\"Lat\"] * slope + intercept\n",
    "line_eq = \"y = \" + str(round(slope,2)) + \"x + \" + str(round(intercept,2))\n",
    "plt.plot(south_df[\"Lat\"],regress_values,\"r-\")\n",
    "print(line_eq)\n",
    "print(f\"The r-value is: {r}\")\n",
    "\n",
    "plt.show()"
   ]
  },
  {
   "cell_type": "markdown",
   "metadata": {},
   "source": [
    "####  Northern Hemisphere - Humidity (%) vs. Latitude Linear Regression"
   ]
  },
  {
   "cell_type": "code",
   "execution_count": 15,
   "metadata": {},
   "outputs": [
    {
     "name": "stdout",
     "output_type": "stream",
     "text": [
      "y = 0.37x + 54.11\n",
      "The r-value is: 0.32585553051777977\n"
     ]
    },
    {
     "data": {
      "image/png": "[encoded data removed]",
      "text/plain": [
       "<Figure size 432x288 with 1 Axes>"
      ]
     },
     "metadata": {
      "needs_background": "light"
     },
     "output_type": "display_data"
    }
   ],
   "source": [
    "plt.scatter(north_df[\"Lat\"],north_df[\"Humidity\"])\n",
    "plt.xlabel(\"Latitude\")\n",
    "plt.ylabel(\"Humidity\")\n",
    "\n",
    "(slope, intercept, r, p, std) = linregress(north_df[\"Lat\"],north_df[\"Humidity\"])\n",
    "regress_values = north_df[\"Lat\"] * slope + intercept\n",
    "line_eq = \"y = \" + str(round(slope,2)) + \"x + \" + str(round(intercept,2))\n",
    "plt.plot(north_df[\"Lat\"],regress_values,\"r-\")\n",
    "print(line_eq)\n",
    "print(f\"The r-value is: {r}\")\n",
    "\n",
    "plt.show()"
   ]
  },
  {
   "cell_type": "markdown",
   "metadata": {},
   "source": [
    "####  Southern Hemisphere - Humidity (%) vs. Latitude Linear Regression"
   ]
  },
  {
   "cell_type": "code",
   "execution_count": 16,
   "metadata": {},
   "outputs": [
    {
     "name": "stdout",
     "output_type": "stream",
     "text": [
      "y = 0.21x + 80.19\n",
      "The r-value is: 0.18165254646818516\n"
     ]
    },
    {
     "data": {
      "image/png": "[encoded data removed]",
      "text/plain": [
       "<Figure size 432x288 with 1 Axes>"
      ]
     },
     "metadata": {
      "needs_background": "light"
     },
     "output_type": "display_data"
    }
   ],
   "source": [
    "plt.scatter(south_df[\"Lat\"],south_df[\"Humidity\"])\n",
    "plt.xlabel(\"Latitude\")\n",
    "plt.ylabel(\"Humidity\")\n",
    "\n",
    "(slope, intercept, r, p, std) = linregress(south_df[\"Lat\"],south_df[\"Humidity\"])\n",
    "regress_values = south_df[\"Lat\"] * slope + intercept\n",
    "line_eq = \"y = \" + str(round(slope,2)) + \"x + \" + str(round(intercept,2))\n",
    "plt.plot(south_df[\"Lat\"],regress_values,\"r-\")\n",
    "print(line_eq)\n",
    "print(f\"The r-value is: {r}\")\n",
    "\n",
    "plt.show()"
   ]
  },
  {
   "cell_type": "markdown",
   "metadata": {},
   "source": [
    "####  Northern Hemisphere - Cloudiness (%) vs. Latitude Linear Regression"
   ]
  },
  {
   "cell_type": "code",
   "execution_count": 17,
   "metadata": {},
   "outputs": [
    {
     "name": "stdout",
     "output_type": "stream",
     "text": [
      "y = 0.37x + 36.99\n",
      "The r-value is: 0.18325519281572805\n"
     ]
    },
    {
     "data": {
      "image/png": "[encoded data removed]",
      "text/plain": [
       "<Figure size 432x288 with 1 Axes>"
      ]
     },
     "metadata": {
      "needs_background": "light"
     },
     "output_type": "display_data"
    }
   ],
   "source": [
    "plt.scatter(north_df[\"Lat\"],north_df[\"Cloudiness\"])\n",
    "plt.xlabel(\"Latitude\")\n",
    "plt.ylabel(\"Cloudiness\")\n",
    "\n",
    "(slope, intercept, r, p, std) = linregress(north_df[\"Lat\"],north_df[\"Cloudiness\"])\n",
    "regress_values = north_df[\"Lat\"] * slope + intercept\n",
    "line_eq = \"y = \" + str(round(slope,2)) + \"x + \" + str(round(intercept,2))\n",
    "plt.plot(north_df[\"Lat\"],regress_values,\"r-\")\n",
    "print(line_eq)\n",
    "print(f\"The r-value is: {r}\")\n",
    "\n",
    "plt.show()"
   ]
  },
  {
   "cell_type": "markdown",
   "metadata": {},
   "source": [
    "####  Southern Hemisphere - Cloudiness (%) vs. Latitude Linear Regression"
   ]
  },
  {
   "cell_type": "code",
   "execution_count": 18,
   "metadata": {},
   "outputs": [
    {
     "name": "stdout",
     "output_type": "stream",
     "text": [
      "y = 1.35x + 84.16\n",
      "The r-value is: 0.4664349431663815\n"
     ]
    },
    {
     "data": {
      "image/png": "[encoded data removed]",
      "text/plain": [
       "<Figure size 432x288 with 1 Axes>"
      ]
     },
     "metadata": {
      "needs_background": "light"
     },
     "output_type": "display_data"
    }
   ],
   "source": [
    "plt.scatter(south_df[\"Lat\"],south_df[\"Cloudiness\"])\n",
    "plt.xlabel(\"Latitude\")\n",
    "plt.ylabel(\"Cloudiness\")\n",
    "\n",
    "(slope, intercept, r, p, std) = linregress(south_df[\"Lat\"],south_df[\"Cloudiness\"])\n",
    "regress_values = south_df[\"Lat\"] * slope + intercept\n",
    "line_eq = \"y = \" + str(round(slope,2)) + \"x + \" + str(round(intercept,2))\n",
    "plt.plot(south_df[\"Lat\"],regress_values,\"r-\")\n",
    "print(line_eq)\n",
    "print(f\"The r-value is: {r}\")\n",
    "\n",
    "plt.show()"
   ]
  },
  {
   "cell_type": "markdown",
   "metadata": {},
   "source": [
    "####  Northern Hemisphere - Wind Speed (mph) vs. Latitude Linear Regression"
   ]
  },
  {
   "cell_type": "code",
   "execution_count": 19,
   "metadata": {},
   "outputs": [
    {
     "name": "stdout",
     "output_type": "stream",
     "text": [
      "y = 0.03x + 7.39\n",
      "The r-value is: 0.10318673937521088\n"
     ]
    },
    {
     "data": {
      "image/png": "[encoded data removed]",
      "text/plain": [
       "<Figure size 432x288 with 1 Axes>"
      ]
     },
     "metadata": {
      "needs_background": "light"
     },
     "output_type": "display_data"
    }
   ],
   "source": [
    "plt.scatter(north_df[\"Lat\"],north_df[\"Wind Speed\"])\n",
    "plt.xlabel(\"Latitude\")\n",
    "plt.ylabel(\"Wind Speed\")\n",
    "\n",
    "(slope, intercept, r, p, std) = linregress(north_df[\"Lat\"],north_df[\"Wind Speed\"])\n",
    "regress_values = north_df[\"Lat\"] * slope + intercept\n",
    "line_eq = \"y = \" + str(round(slope,2)) + \"x + \" + str(round(intercept,2))\n",
    "plt.plot(north_df[\"Lat\"],regress_values,\"r-\")\n",
    "print(line_eq)\n",
    "print(f\"The r-value is: {r}\")\n",
    "\n",
    "plt.show()"
   ]
  },
  {
   "cell_type": "markdown",
   "metadata": {},
   "source": [
    "####  Southern Hemisphere - Wind Speed (mph) vs. Latitude Linear Regression"
   ]
  },
  {
   "cell_type": "code",
   "execution_count": 20,
   "metadata": {},
   "outputs": [
    {
     "name": "stdout",
     "output_type": "stream",
     "text": [
      "y = -0.1x + 5.38\n",
      "The r-value is: -0.23275711842486438\n"
     ]
    },
    {
     "data": {
      "image/png": "[encoded data removed]",
      "text/plain": [
       "<Figure size 432x288 with 1 Axes>"
      ]
     },
     "metadata": {
      "needs_background": "light"
     },
     "output_type": "display_data"
    }
   ],
   "source": [
    "plt.scatter(south_df[\"Lat\"],south_df[\"Wind Speed\"])\n",
    "plt.xlabel(\"Latitude\")\n",
    "plt.ylabel(\"Wind Speed\")\n",
    "\n",
    "(slope, intercept, r, p, std) = linregress(south_df[\"Lat\"],south_df[\"Wind Speed\"])\n",
    "regress_values = south_df[\"Lat\"] * slope + intercept\n",
    "line_eq = \"y = \" + str(round(slope,2)) + \"x + \" + str(round(intercept,2))\n",
    "plt.plot(south_df[\"Lat\"],regress_values,\"r-\")\n",
    "print(line_eq)\n",
    "print(f\"The r-value is: {r}\")\n",
    "\n",
    "plt.show()"
   ]
  },
  {
   "cell_type": "code",
   "execution_count": null,
   "metadata": {},
   "outputs": [],
   "source": []
  }
 ],
 "metadata": {
  "anaconda-cloud": {},
  "kernel_info": {
   "name": "python3"
  },
  "kernelspec": {
   "display_name": "Python 3",
   "language": "python",
   "name": "python3"
  },
  "language_info": {
   "codemirror_mode": {
    "name": "ipython",
    "version": 3
   },
   "file_extension": ".py",
   "mimetype": "text/x-python",
   "name": "python",
   "nbconvert_exporter": "python",
   "pygments_lexer": "ipython3",
   "version": "3.8.5"
  },
  "latex_envs": {
   "LaTeX_envs_menu_present": true,
   "autoclose": false,
   "autocomplete": true,
   "bibliofile": "biblio.bib",
   "cite_by": "apalike",
   "current_citInitial": 1,
   "eqLabelWithNumbers": true,
   "eqNumInitial": 1,
   "hotkeys": {
    "equation": "Ctrl-E",
    "itemize": "Ctrl-I"
   },
   "labels_anchors": false,
   "latex_user_defs": false,
   "report_style_numbering": false,
   "user_envs_cfg": false
  },
  "nteract": {
   "version": "0.12.3"
  }
 },
 "nbformat": 4,
 "nbformat_minor": 4
}
