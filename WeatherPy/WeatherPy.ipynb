{
 "cells": [
  {
   "cell_type": "markdown",
   "metadata": {},
   "source": [
    "# WeatherPy\n",
    "----\n",
    "\n",
    "#### Note\n",
    "* Instructions have been included for each segment. You do not have to follow them exactly, but they are included to help you think through the steps."
   ]
  },
  {
   "cell_type": "code",
   "execution_count": 1,
   "metadata": {
    "scrolled": true
   },
   "outputs": [],
   "source": [
    "# Dependencies and Setup\n",
    "import matplotlib.pyplot as plt\n",
    "import pandas as pd\n",
    "import numpy as np\n",
    "import requests\n",
    "import time\n",
    "from scipy.stats import linregress\n",
    "\n",
    "# Import API key\n",
    "from api_keys import weather_api_key\n",
    "\n",
    "# Incorporated citipy to determine city based on latitude and longitude\n",
    "from citipy import citipy\n",
    "\n",
    "# Output File (CSV)\n",
    "output_data_file = \"output_data/cities.csv\"\n",
    "\n",
    "# Range of latitudes and longitudes\n",
    "lat_range = (-90, 90)\n",
    "lng_range = (-180, 180) "
   ]
  },
  {
   "cell_type": "markdown",
   "metadata": {},
   "source": [
    "## Generate Cities List"
   ]
  },
  {
   "cell_type": "code",
   "execution_count": 2,
   "metadata": {},
   "outputs": [
    {
     "data": {
      "text/plain": [
       "596"
      ]
     },
     "execution_count": 2,
     "metadata": {},
     "output_type": "execute_result"
    }
   ],
   "source": [
    "# List for holding lat_lngs and cities\n",
    "lat_lngs = []\n",
    "cities = []\n",
    "\n",
    "# Create a set of random lat and lng combinations\n",
    "lats = np.random.uniform(lat_range[0], lat_range[1], size=1500)\n",
    "lngs = np.random.uniform(lng_range[0], lng_range[1], size=1500)\n",
    "lat_lngs = zip(lats, lngs)\n",
    "\n",
    "# Identify nearest city for each lat, lng combination\n",
    "for lat_lng in lat_lngs:\n",
    "    city = citipy.nearest_city(lat_lng[0], lat_lng[1]).city_name\n",
    "    \n",
    "    # If the city is unique, then add it to a our cities list\n",
    "    if city not in cities:\n",
    "        cities.append(city)\n",
    "\n",
    "# Print the city count to confirm sufficient count\n",
    "len(cities)"
   ]
  },
  {
   "cell_type": "markdown",
   "metadata": {},
   "source": [
    "### Perform API Calls\n",
    "* Perform a weather check on each city using a series of successive API calls.\n",
    "* Include a print log of each city as it'sbeing processed (with the city number and city name).\n"
   ]
  },
  {
   "cell_type": "code",
   "execution_count": 3,
   "metadata": {
    "scrolled": true
   },
   "outputs": [
    {
     "name": "stdout",
     "output_type": "stream",
     "text": [
      "Processing record 1 of Set | kaitangata\n",
      "Processing record 2 of Set | nikolskoye\n",
      "Processing record 3 of Set | mitsamiouli\n",
      "Processing record 4 of Set | moron\n",
      "Processing record 5 of Set | athens\n",
      "Processing record 6 of Set | vaini\n",
      "Processing record 7 of Set | tilichiki\n",
      "Processing record 8 of Set | tuktoyaktuk\n",
      "Processing record 9 of Set | cherskiy\n",
      "Processing record 10 of Set | leningradskiy\n",
      "Processing record 11 of Set | cape town\n",
      "City not found. Skipping...\n",
      "Processing record 12 of Set | qaanaaq\n",
      "Processing record 13 of Set | gambela\n",
      "Processing record 14 of Set | mogadishu\n",
      "Processing record 15 of Set | barrow\n",
      "Processing record 16 of Set | mountain home\n",
      "Processing record 17 of Set | bac lieu\n",
      "Processing record 18 of Set | castro\n",
      "Processing record 19 of Set | palmer\n",
      "City not found. Skipping...\n",
      "City not found. Skipping...\n",
      "Processing record 20 of Set | laguna\n",
      "Processing record 21 of Set | nagaur\n",
      "Processing record 22 of Set | santa isabel do rio negro\n",
      "Processing record 23 of Set | dalvik\n",
      "Processing record 24 of Set | okha\n",
      "Processing record 25 of Set | lebedinyy\n",
      "Processing record 26 of Set | port alfred\n",
      "Processing record 27 of Set | evensk\n",
      "Processing record 28 of Set | egvekinot\n",
      "Processing record 29 of Set | bredasdorp\n",
      "Processing record 30 of Set | lebu\n",
      "City not found. Skipping...\n",
      "Processing record 31 of Set | mataura\n",
      "Processing record 32 of Set | filingue\n",
      "Processing record 33 of Set | jamestown\n",
      "Processing record 34 of Set | namibe\n",
      "Processing record 35 of Set | pareora\n",
      "Processing record 36 of Set | celestun\n",
      "City not found. Skipping...\n",
      "Processing record 37 of Set | katsuura\n",
      "Processing record 38 of Set | rikitea\n",
      "Processing record 39 of Set | lorengau\n",
      "Processing record 40 of Set | hokitika\n",
      "Processing record 41 of Set | san policarpo\n",
      "Processing record 42 of Set | pevek\n",
      "City not found. Skipping...\n",
      "Processing record 43 of Set | chuy\n",
      "Processing record 44 of Set | vardo\n",
      "Processing record 45 of Set | gamba\n",
      "Processing record 46 of Set | ouallam\n",
      "Processing record 47 of Set | kodiak\n",
      "Processing record 48 of Set | elizabeth city\n",
      "Processing record 49 of Set | kandrian\n",
      "Processing record 50 of Set | labuhan\n",
      "Processing record 51 of Set | cidreira\n",
      "Processing record 52 of Set | dikson\n",
      "Processing record 53 of Set | benguela\n",
      "Processing record 54 of Set | torbay\n",
      "Processing record 55 of Set | nemuro\n",
      "Processing record 56 of Set | teya\n",
      "Processing record 57 of Set | atambua\n",
      "Processing record 58 of Set | el campo\n",
      "Processing record 59 of Set | arraial do cabo\n",
      "Processing record 60 of Set | airai\n",
      "City not found. Skipping...\n",
      "Processing record 61 of Set | trenggalek\n",
      "Processing record 62 of Set | mar del plata\n",
      "Processing record 63 of Set | longyearbyen\n",
      "Processing record 64 of Set | bluff\n",
      "City not found. Skipping...\n",
      "Processing record 65 of Set | college\n",
      "Processing record 66 of Set | punta arenas\n",
      "Processing record 67 of Set | hermosillo\n",
      "Processing record 68 of Set | acapulco\n",
      "Processing record 69 of Set | busselton\n",
      "Processing record 70 of Set | saskylakh\n",
      "Processing record 71 of Set | awjilah\n",
      "Processing record 72 of Set | clyde river\n",
      "Processing record 73 of Set | sembakung\n",
      "Processing record 74 of Set | broken hill\n",
      "Processing record 75 of Set | hermanus\n",
      "Processing record 76 of Set | lewistown\n",
      "Processing record 77 of Set | pemangkat\n",
      "Processing record 78 of Set | pomabamba\n",
      "Processing record 79 of Set | cabo san lucas\n",
      "Processing record 80 of Set | faanui\n",
      "Processing record 81 of Set | puerto ayora\n",
      "Processing record 82 of Set | ushuaia\n",
      "Processing record 83 of Set | hualmay\n",
      "Processing record 84 of Set | moindou\n",
      "Processing record 85 of Set | romanovo\n",
      "City not found. Skipping...\n",
      "Processing record 86 of Set | albany\n",
      "Processing record 87 of Set | opelousas\n",
      "Processing record 88 of Set | dudinka\n",
      "City not found. Skipping...\n",
      "Processing record 89 of Set | srivardhan\n",
      "Processing record 90 of Set | katangli\n",
      "Processing record 91 of Set | zhigalovo\n",
      "Processing record 92 of Set | ribeira grande\n",
      "Processing record 93 of Set | kruisfontein\n",
      "Processing record 94 of Set | new norfolk\n",
      "Processing record 95 of Set | vila\n",
      "Processing record 96 of Set | tuatapere\n",
      "Processing record 97 of Set | taoudenni\n",
      "Processing record 98 of Set | manicore\n",
      "Processing record 99 of Set | asosa\n",
      "City not found. Skipping...\n",
      "Processing record 100 of Set | mount gambier\n",
      "Processing record 101 of Set | tehachapi\n",
      "Processing record 102 of Set | butaritari\n",
      "Processing record 103 of Set | atuona\n",
      "Processing record 104 of Set | la ronge\n",
      "Processing record 105 of Set | ifakara\n",
      "Processing record 106 of Set | tiarei\n",
      "Processing record 107 of Set | kaabong\n",
      "Processing record 108 of Set | vanimo\n",
      "Processing record 109 of Set | east london\n",
      "Processing record 110 of Set | la libertad\n",
      "Processing record 111 of Set | ocampo\n",
      "Processing record 112 of Set | balikpapan\n",
      "Processing record 113 of Set | sosnovka\n",
      "Processing record 114 of Set | rio gallegos\n",
      "Processing record 115 of Set | polovinnoye\n",
      "Processing record 116 of Set | broome\n",
      "Processing record 117 of Set | yashkul\n",
      "Processing record 118 of Set | shingu\n",
      "Processing record 119 of Set | tiksi\n",
      "City not found. Skipping...\n",
      "Processing record 120 of Set | aklavik\n",
      "City not found. Skipping...\n",
      "City not found. Skipping...\n",
      "Processing record 121 of Set | bambous virieux\n",
      "Processing record 122 of Set | tucupita\n",
      "Processing record 123 of Set | thompson\n",
      "Processing record 124 of Set | omboue\n",
      "Processing record 125 of Set | wajid\n",
      "Processing record 126 of Set | burnie\n",
      "Processing record 127 of Set | poya\n",
      "Processing record 128 of Set | bethel\n",
      "City not found. Skipping...\n",
      "Processing record 129 of Set | kavieng\n",
      "Processing record 130 of Set | ahipara\n",
      "Processing record 131 of Set | kisangani\n",
      "Processing record 132 of Set | port elizabeth\n",
      "Processing record 133 of Set | hilo\n",
      "Processing record 134 of Set | itarema\n",
      "Processing record 135 of Set | deer lake\n",
      "Processing record 136 of Set | hasaki\n",
      "Processing record 137 of Set | yellowknife\n",
      "Processing record 138 of Set | khatanga\n",
      "Processing record 139 of Set | pinhao\n",
      "City not found. Skipping...\n",
      "City not found. Skipping...\n",
      "Processing record 140 of Set | ormara\n",
      "Processing record 141 of Set | manacapuru\n",
      "Processing record 142 of Set | sistranda\n",
      "Processing record 143 of Set | hithadhoo\n",
      "Processing record 144 of Set | north platte\n",
      "Processing record 145 of Set | hobart\n",
      "Processing record 146 of Set | victoria\n",
      "City not found. Skipping...\n",
      "Processing record 147 of Set | chapais\n",
      "Processing record 148 of Set | sorland\n",
      "Processing record 149 of Set | imbituba\n",
      "Processing record 150 of Set | asau\n",
      "Processing record 151 of Set | limbang\n",
      "Processing record 152 of Set | pangkalanbuun\n",
      "Processing record 153 of Set | sokoto\n",
      "Processing record 154 of Set | havre-saint-pierre\n",
      "Processing record 155 of Set | flinders\n",
      "Processing record 156 of Set | paita\n",
      "Processing record 157 of Set | isangel\n",
      "Processing record 158 of Set | soignies\n",
      "Processing record 159 of Set | maracacume\n",
      "Processing record 160 of Set | avarua\n",
      "Processing record 161 of Set | san patricio\n",
      "Processing record 162 of Set | russell\n",
      "Processing record 163 of Set | fagundes\n",
      "Processing record 164 of Set | alice springs\n",
      "Processing record 165 of Set | karratha\n",
      "Processing record 166 of Set | upernavik\n",
      "Processing record 167 of Set | bialogard\n",
      "Processing record 168 of Set | stettler\n",
      "Processing record 169 of Set | paracuru\n",
      "Processing record 170 of Set | flin flon\n",
      "Processing record 171 of Set | valleyview\n",
      "Processing record 172 of Set | coihaique\n",
      "Processing record 173 of Set | heidenau\n",
      "Processing record 174 of Set | loukhi\n",
      "Processing record 175 of Set | coquimbo\n",
      "Processing record 176 of Set | ponta delgada\n",
      "Processing record 177 of Set | esperance\n",
      "Processing record 178 of Set | aasiaat\n",
      "Processing record 179 of Set | bo rai\n",
      "Processing record 180 of Set | port blair\n",
      "Processing record 181 of Set | san quintin\n",
      "Processing record 182 of Set | manggar\n",
      "Processing record 183 of Set | nome\n",
      "Processing record 184 of Set | xuanhua\n",
      "Processing record 185 of Set | georgetown\n",
      "City not found. Skipping...\n",
      "Processing record 186 of Set | zabaykalsk\n",
      "Processing record 187 of Set | calabozo\n",
      "Processing record 188 of Set | ishim\n",
      "Processing record 189 of Set | carnarvon\n",
      "Processing record 190 of Set | black river\n",
      "Processing record 191 of Set | nyeri\n",
      "Processing record 192 of Set | ilulissat\n",
      "Processing record 193 of Set | chiang klang\n",
      "Processing record 194 of Set | malia\n",
      "Processing record 195 of Set | bambanglipuro\n",
      "Processing record 196 of Set | lerwick\n",
      "Processing record 197 of Set | kavaratti\n",
      "Processing record 198 of Set | jizan\n",
      "Processing record 199 of Set | sinnamary\n",
      "Processing record 200 of Set | sept-iles\n",
      "Processing record 201 of Set | el progreso\n",
      "Processing record 202 of Set | bengkulu\n",
      "Processing record 203 of Set | sakakah\n",
      "Processing record 204 of Set | simbahan\n",
      "Processing record 205 of Set | provideniya\n",
      "Processing record 206 of Set | matadi\n",
      "Processing record 207 of Set | kapaa\n",
      "Processing record 208 of Set | aba\n",
      "Processing record 209 of Set | komsomolskiy\n",
      "Processing record 210 of Set | pocao de pedras\n",
      "Processing record 211 of Set | te anau\n",
      "Processing record 212 of Set | tura\n",
      "Processing record 213 of Set | sitka\n",
      "Processing record 214 of Set | ludvika\n",
      "City not found. Skipping...\n",
      "Processing record 215 of Set | norman wells\n",
      "Processing record 216 of Set | sabha\n",
      "Processing record 217 of Set | hitachi\n",
      "Processing record 218 of Set | luau\n",
      "Processing record 219 of Set | saint-philippe\n",
      "City not found. Skipping...\n",
      "City not found. Skipping...\n",
      "Processing record 220 of Set | westport\n",
      "City not found. Skipping...\n",
      "Processing record 221 of Set | luxor\n",
      "Processing record 222 of Set | port augusta\n",
      "Processing record 223 of Set | saint george\n",
      "City not found. Skipping...\n",
      "Processing record 224 of Set | saint-pierre\n",
      "City not found. Skipping...\n",
      "Processing record 225 of Set | vestmannaeyjar\n",
      "Processing record 226 of Set | tasiilaq\n",
      "Processing record 227 of Set | iskateley\n",
      "Processing record 228 of Set | geraldton\n",
      "Processing record 229 of Set | pendra\n",
      "Processing record 230 of Set | kupang\n",
      "Processing record 231 of Set | fortuna\n",
      "Processing record 232 of Set | tessalit\n",
      "Processing record 233 of Set | sao filipe\n",
      "Processing record 234 of Set | tomohon\n",
      "Processing record 235 of Set | vaitape\n",
      "Processing record 236 of Set | northam\n",
      "Processing record 237 of Set | zhoukou\n",
      "Processing record 238 of Set | bandarbeyla\n",
      "Processing record 239 of Set | qaqortoq\n",
      "Processing record 240 of Set | phichit\n",
      "Processing record 241 of Set | hueyapan\n",
      "Processing record 242 of Set | grindavik\n",
      "City not found. Skipping...\n",
      "Processing record 243 of Set | aitape\n",
      "Processing record 244 of Set | lompoc\n",
      "Processing record 245 of Set | saldanha\n",
      "Processing record 246 of Set | mirnyy\n",
      "Processing record 247 of Set | doha\n",
      "Processing record 248 of Set | meulaboh\n",
      "Processing record 249 of Set | liverpool\n",
      "City not found. Skipping...\n",
      "Processing record 250 of Set | aljezur\n",
      "Processing record 251 of Set | cardston\n",
      "Processing record 252 of Set | caravelas\n",
      "Processing record 253 of Set | tefe\n",
      "Processing record 254 of Set | port keats\n",
      "Processing record 255 of Set | kingsport\n",
      "Processing record 256 of Set | san jose\n",
      "Processing record 257 of Set | semey\n",
      "City not found. Skipping...\n",
      "Processing record 258 of Set | ginda\n",
      "Processing record 259 of Set | talnakh\n",
      "Processing record 260 of Set | zhezkazgan\n",
      "Processing record 261 of Set | boguchany\n",
      "Processing record 262 of Set | ossora\n",
      "Processing record 263 of Set | henties bay\n",
      "Processing record 264 of Set | carutapera\n",
      "Processing record 265 of Set | jawhar\n",
      "Processing record 266 of Set | birao\n",
      "Processing record 267 of Set | totness\n",
      "Processing record 268 of Set | touros\n",
      "Processing record 269 of Set | beyneu\n",
      "Processing record 270 of Set | beloha\n",
      "Processing record 271 of Set | yulara\n",
      "Processing record 272 of Set | forestville\n",
      "Processing record 273 of Set | chokurdakh\n",
      "Processing record 274 of Set | klaksvik\n",
      "Processing record 275 of Set | usinsk\n",
      "City not found. Skipping...\n",
      "City not found. Skipping...\n",
      "Processing record 276 of Set | manado\n",
      "Processing record 277 of Set | coahuayana\n",
      "Processing record 278 of Set | riberalta\n",
      "Processing record 279 of Set | igrim\n",
      "Processing record 280 of Set | mosetse\n",
      "Processing record 281 of Set | nizhneudinsk\n",
      "City not found. Skipping...\n",
      "Processing record 282 of Set | sarakhs\n",
      "Processing record 283 of Set | mumford\n",
      "Processing record 284 of Set | hofn\n",
      "Processing record 285 of Set | muros\n",
      "Processing record 286 of Set | ipixuna\n",
      "Processing record 287 of Set | bathsheba\n",
      "Processing record 288 of Set | kaohsiung\n",
      "Processing record 289 of Set | mezen\n",
      "Processing record 290 of Set | ondjiva\n",
      "Processing record 291 of Set | chalus\n",
      "Processing record 292 of Set | segovia\n",
      "Processing record 293 of Set | tyrma\n",
      "Processing record 294 of Set | bairiki\n",
      "Processing record 295 of Set | milton\n",
      "City not found. Skipping...\n",
      "Processing record 296 of Set | port-gentil\n",
      "Processing record 297 of Set | wang noi\n",
      "Processing record 298 of Set | sao joao da barra\n",
      "Processing record 299 of Set | feijo\n",
      "Processing record 300 of Set | qinzhou\n",
      "Processing record 301 of Set | codrington\n",
      "Processing record 302 of Set | ibotirama\n",
      "Processing record 303 of Set | tual\n",
      "Processing record 304 of Set | tuy hoa\n",
      "Processing record 305 of Set | half moon bay\n",
      "Processing record 306 of Set | tikapur\n",
      "Processing record 307 of Set | sur\n",
      "Processing record 308 of Set | bonavista\n",
      "Processing record 309 of Set | cabedelo\n",
      "Processing record 310 of Set | andros town\n",
      "Processing record 311 of Set | caxito\n",
      "Processing record 312 of Set | tambovka\n",
      "Processing record 313 of Set | ampanihy\n",
      "Processing record 314 of Set | kosonsoy\n",
      "Processing record 315 of Set | loreto\n",
      "Processing record 316 of Set | san cristobal\n",
      "Processing record 317 of Set | kaniama\n",
      "Processing record 318 of Set | beringovskiy\n",
      "Processing record 319 of Set | praia da vitoria\n",
      "Processing record 320 of Set | birin\n",
      "Processing record 321 of Set | hambantota\n",
      "Processing record 322 of Set | lakes entrance\n",
      "Processing record 323 of Set | jharsuguda\n",
      "City not found. Skipping...\n",
      "Processing record 324 of Set | kovdor\n",
      "Processing record 325 of Set | vila velha\n",
      "Processing record 326 of Set | haines junction\n",
      "Processing record 327 of Set | kongolo\n",
      "Processing record 328 of Set | high prairie\n",
      "Processing record 329 of Set | namanga\n",
      "Processing record 330 of Set | pakokku\n",
      "Processing record 331 of Set | pangnirtung\n",
      "Processing record 332 of Set | majene\n",
      "Processing record 333 of Set | cascais\n",
      "Processing record 334 of Set | keetmanshoop\n",
      "Processing record 335 of Set | sao jose da coroa grande\n",
      "Processing record 336 of Set | port hardy\n",
      "Processing record 337 of Set | souillac\n",
      "Processing record 338 of Set | korla\n",
      "Processing record 339 of Set | salto\n",
      "Processing record 340 of Set | kirishi\n",
      "Processing record 341 of Set | odda\n",
      "Processing record 342 of Set | ponta do sol\n",
      "Processing record 343 of Set | nantucket\n",
      "Processing record 344 of Set | otradnoye\n",
      "Processing record 345 of Set | rosario\n",
      "Processing record 346 of Set | nayoro\n",
      "Processing record 347 of Set | kaeo\n",
      "Processing record 348 of Set | oranjemund\n",
      "Processing record 349 of Set | eydhafushi\n",
      "Processing record 350 of Set | salalah\n",
      "Processing record 351 of Set | portland\n",
      "Processing record 352 of Set | hvolsvollur\n",
      "City not found. Skipping...\n",
      "Processing record 353 of Set | arman\n",
      "Processing record 354 of Set | atherton\n",
      "Processing record 355 of Set | garowe\n",
      "Processing record 356 of Set | cedar city\n",
      "Processing record 357 of Set | tabou\n",
      "Processing record 358 of Set | grand-lahou\n",
      "Processing record 359 of Set | mizque\n",
      "Processing record 360 of Set | eagle pass\n",
      "Processing record 361 of Set | manakara\n",
      "Processing record 362 of Set | porto novo\n",
      "Processing record 363 of Set | cerchezu\n",
      "Processing record 364 of Set | jiaozuo\n",
      "Processing record 365 of Set | rawson\n",
      "Processing record 366 of Set | nagato\n",
      "Processing record 367 of Set | otane\n",
      "City not found. Skipping...\n",
      "City not found. Skipping...\n",
      "Processing record 368 of Set | devils lake\n",
      "Processing record 369 of Set | mount isa\n",
      "Processing record 370 of Set | teguldet\n",
      "Processing record 371 of Set | yeppoon\n",
      "City not found. Skipping...\n",
      "Processing record 372 of Set | yangambi\n",
      "Processing record 373 of Set | naze\n",
      "Processing record 374 of Set | vinh\n",
      "Processing record 375 of Set | narsaq\n",
      "Processing record 376 of Set | neryungri\n",
      "Processing record 377 of Set | talcahuano\n",
      "Processing record 378 of Set | biograd na moru\n",
      "Processing record 379 of Set | smolenka\n",
      "Processing record 380 of Set | lazaro cardenas\n",
      "Processing record 381 of Set | west plains\n",
      "Processing record 382 of Set | nanakuli\n",
      "Processing record 383 of Set | shubarshi\n",
      "Processing record 384 of Set | zamberk\n",
      "Processing record 385 of Set | belmonte\n",
      "Processing record 386 of Set | port macquarie\n",
      "Processing record 387 of Set | moose factory\n",
      "Processing record 388 of Set | thinadhoo\n",
      "Processing record 389 of Set | cayenne\n",
      "Processing record 390 of Set | spornoye\n",
      "Processing record 391 of Set | barranca\n",
      "City not found. Skipping...\n",
      "Processing record 392 of Set | buluang\n",
      "Processing record 393 of Set | alofi\n",
      "Processing record 394 of Set | la sarre\n",
      "City not found. Skipping...\n",
      "Processing record 395 of Set | sawakin\n",
      "Processing record 396 of Set | bereda\n",
      "Processing record 397 of Set | baker city\n",
      "Processing record 398 of Set | kloulklubed\n",
      "Processing record 399 of Set | oltu\n",
      "Processing record 400 of Set | vanderhoof\n",
      "Processing record 401 of Set | jalu\n",
      "Processing record 402 of Set | severo-kurilsk\n",
      "Processing record 403 of Set | varna\n",
      "Processing record 404 of Set | tias\n",
      "Processing record 405 of Set | naryan-mar\n",
      "Processing record 406 of Set | salina\n",
      "Processing record 407 of Set | zemio\n",
      "Processing record 408 of Set | shagonar\n",
      "Processing record 409 of Set | nara\n",
      "Processing record 410 of Set | lokosovo\n",
      "Processing record 411 of Set | vilhena\n",
      "Processing record 412 of Set | akyab\n",
      "Processing record 413 of Set | kazachinskoye\n",
      "Processing record 414 of Set | taclobo\n",
      "Processing record 415 of Set | bjornevatn\n",
      "Processing record 416 of Set | yurimaguas\n",
      "Processing record 417 of Set | ayabaca\n",
      "Processing record 418 of Set | troitskoye\n",
      "Processing record 419 of Set | hamilton\n",
      "Processing record 420 of Set | turtas\n",
      "Processing record 421 of Set | scottsbluff\n",
      "Processing record 422 of Set | correntina\n",
      "Processing record 423 of Set | saint-francois\n",
      "Processing record 424 of Set | isabela\n",
      "Processing record 425 of Set | constitucion\n",
      "Processing record 426 of Set | libertador general san martin\n",
      "Processing record 427 of Set | serowe\n",
      "Processing record 428 of Set | palencia\n",
      "City not found. Skipping...\n",
      "Processing record 429 of Set | sarahan\n",
      "Processing record 430 of Set | cockburn town\n",
      "City not found. Skipping...\n",
      "Processing record 431 of Set | myitkyina\n",
      "Processing record 432 of Set | payson\n",
      "Processing record 433 of Set | guerrero negro\n",
      "Processing record 434 of Set | bad durkheim\n",
      "Processing record 435 of Set | suluq\n",
      "Processing record 436 of Set | pelym\n",
      "Processing record 437 of Set | grand baie\n",
      "Processing record 438 of Set | iracoubo\n",
      "Processing record 439 of Set | makakilo city\n",
      "Processing record 440 of Set | kununurra\n",
      "Processing record 441 of Set | kihei\n",
      "Processing record 442 of Set | algiers\n",
      "Processing record 443 of Set | hami\n",
      "Processing record 444 of Set | auki\n",
      "Processing record 445 of Set | bankura\n",
      "Processing record 446 of Set | verkhnevilyuysk\n",
      "Processing record 447 of Set | santiago del estero\n",
      "Processing record 448 of Set | mitu\n",
      "Processing record 449 of Set | ajuchitlan\n",
      "Processing record 450 of Set | vranov\n",
      "Processing record 451 of Set | arlit\n",
      "Processing record 452 of Set | bedele\n",
      "Processing record 453 of Set | gat\n",
      "Processing record 454 of Set | hovd\n",
      "Processing record 455 of Set | gizo\n",
      "Processing record 456 of Set | ventspils\n",
      "City not found. Skipping...\n",
      "Processing record 457 of Set | kodinsk\n",
      "Processing record 458 of Set | vera cruz\n",
      "Processing record 459 of Set | garibaldi\n",
      "Processing record 460 of Set | oromocto\n",
      "Processing record 461 of Set | fivizzano\n",
      "Processing record 462 of Set | mattru\n",
      "Processing record 463 of Set | camana\n",
      "Processing record 464 of Set | avera\n",
      "Processing record 465 of Set | tezu\n",
      "Processing record 466 of Set | san jeronimo\n",
      "Processing record 467 of Set | tautira\n",
      "Processing record 468 of Set | husavik\n",
      "Processing record 469 of Set | igarka\n",
      "Processing record 470 of Set | palmares do sul\n",
      "Processing record 471 of Set | lagoa\n",
      "Processing record 472 of Set | mwinilunga\n",
      "Processing record 473 of Set | jamame\n",
      "Processing record 474 of Set | brae\n",
      "Processing record 475 of Set | aldan\n",
      "Processing record 476 of Set | xinmin\n",
      "Processing record 477 of Set | manadhoo\n",
      "Processing record 478 of Set | petropavlovsk-kamchatskiy\n",
      "Processing record 479 of Set | bluefield\n",
      "Processing record 480 of Set | san carlos\n",
      "Processing record 481 of Set | wanning\n",
      "City not found. Skipping...\n",
      "City not found. Skipping...\n",
      "Processing record 482 of Set | zonguldak\n",
      "Processing record 483 of Set | poronaysk\n",
      "Processing record 484 of Set | meiganga\n",
      "City not found. Skipping...\n",
      "Processing record 485 of Set | katobu\n",
      "Processing record 486 of Set | beruwala\n",
      "Processing record 487 of Set | aksu\n",
      "Processing record 488 of Set | kamenka\n",
      "Processing record 489 of Set | clarksburg\n",
      "City not found. Skipping...\n",
      "Processing record 490 of Set | lindsay\n",
      "Processing record 491 of Set | basco\n",
      "City not found. Skipping...\n",
      "Processing record 492 of Set | dwarka\n",
      "Processing record 493 of Set | hidalgo\n",
      "Processing record 494 of Set | taltal\n",
      "Processing record 495 of Set | iqaluit\n",
      "Processing record 496 of Set | padang\n",
      "Processing record 497 of Set | strezhevoy\n",
      "Processing record 498 of Set | santiago de maria\n",
      "Processing record 499 of Set | hirado\n",
      "Processing record 500 of Set | martapura\n",
      "Processing record 501 of Set | esso\n",
      "Processing record 502 of Set | kieta\n",
      "Processing record 503 of Set | hangal\n",
      "Processing record 504 of Set | policoro\n",
      "Processing record 505 of Set | gudari\n",
      "Processing record 506 of Set | ulaangom\n",
      "Processing record 507 of Set | issenye\n",
      "Processing record 508 of Set | chara\n",
      "Processing record 509 of Set | yahotyn\n",
      "Processing record 510 of Set | lagos\n",
      "Processing record 511 of Set | santiago\n",
      "Processing record 512 of Set | ostrovnoy\n",
      "Processing record 513 of Set | okhotsk\n",
      "Processing record 514 of Set | inhambane\n",
      "Processing record 515 of Set | solano\n",
      "Processing record 516 of Set | port moresby\n",
      "Processing record 517 of Set | krasnoselkup\n",
      "Processing record 518 of Set | ngunguru\n",
      "Processing record 519 of Set | necochea\n",
      "City not found. Skipping...\n",
      "Processing record 520 of Set | santa cruz\n",
      "Processing record 521 of Set | jocon\n",
      "Processing record 522 of Set | santa fe\n",
      "Processing record 523 of Set | nicoya\n",
      "Processing record 524 of Set | mahajanga\n",
      "Processing record 525 of Set | valparaiso\n",
      "Processing record 526 of Set | mahebourg\n",
      "Processing record 527 of Set | minden\n",
      "Processing record 528 of Set | traverse city\n",
      "Processing record 529 of Set | luderitz\n",
      "Processing record 530 of Set | omsukchan\n",
      "Processing record 531 of Set | iranshahr\n",
      "Processing record 532 of Set | burns lake\n",
      "Processing record 533 of Set | ferrol\n",
      "Processing record 534 of Set | baiyin\n",
      "City not found. Skipping...\n",
      "Processing record 535 of Set | huarmey\n",
      "Processing record 536 of Set | tumaco\n",
      "Processing record 537 of Set | maroua\n",
      "Processing record 538 of Set | biak\n",
      "Processing record 539 of Set | honiton\n",
      "Processing record 540 of Set | kayerkan\n",
      "Processing record 541 of Set | boyolangu\n",
      "Processing record 542 of Set | hervey bay\n",
      "Processing record 543 of Set | mound\n",
      "Processing record 544 of Set | warrnambool\n",
      "Processing record 545 of Set | cortez\n",
      "Processing record 546 of Set | grand island\n",
      "Processing record 547 of Set | puerto escondido\n"
     ]
    }
   ],
   "source": [
    "url = \"http://api.openweathermap.org/data/2.5/weather?\"\n",
    "cities_data = []\n",
    "cities_name = []\n",
    "cities_lat = []\n",
    "cities_lng = []\n",
    "cities_max = []\n",
    "cities_hum = []\n",
    "cities_cloud = []\n",
    "cities_wind = []\n",
    "cities_country = []\n",
    "cities_date = []\n",
    "\n",
    "for city in cities:\n",
    "    try:\n",
    "        response = requests.get(f\"{url}q={city}&appid={weather_api_key}&units=imperial\").json()\n",
    "        cities_name.append(response[\"name\"])\n",
    "        cities_lat.append(response[\"coord\"][\"lat\"])\n",
    "        cities_lng.append(response[\"coord\"][\"lon\"])\n",
    "        cities_max.append(response[\"main\"][\"temp_max\"])\n",
    "        cities_hum.append(response[\"main\"][\"humidity\"])\n",
    "        cities_cloud.append(response[\"clouds\"][\"all\"])\n",
    "        cities_wind.append(response[\"wind\"][\"speed\"])\n",
    "        cities_country.append(response[\"sys\"][\"country\"])\n",
    "        cities_date.append(response[\"dt\"])\n",
    "        cities_data.append(response)\n",
    "        print(f\"Processing record {cities_data.index(response) + 1} of Set | {city}\")\n",
    "    except:\n",
    "        print(f\"City not found. Skipping...\")"
   ]
  },
  {
   "cell_type": "markdown",
   "metadata": {},
   "source": [
    "### Convert Raw Data to DataFrame\n",
    "* Export the city data into a .csv.\n",
    "* Display the DataFrame"
   ]
  },
  {
   "cell_type": "code",
   "execution_count": 4,
   "metadata": {},
   "outputs": [
    {
     "data": {
      "text/html": [
       "<div>\n",
       "<style scoped>\n",
       "    .dataframe tbody tr th:only-of-type {\n",
       "        vertical-align: middle;\n",
       "    }\n",
       "\n",
       "    .dataframe tbody tr th {\n",
       "        vertical-align: top;\n",
       "    }\n",
       "\n",
       "    .dataframe thead th {\n",
       "        text-align: right;\n",
       "    }\n",
       "</style>\n",
       "<table border=\"1\" class=\"dataframe\">\n",
       "  <thead>\n",
       "    <tr style=\"text-align: right;\">\n",
       "      <th></th>\n",
       "      <th>City</th>\n",
       "      <th>Lat</th>\n",
       "      <th>Lng</th>\n",
       "      <th>Max Temp</th>\n",
       "      <th>Humidity</th>\n",
       "      <th>Cloudiness</th>\n",
       "      <th>Wind Speed</th>\n",
       "      <th>Country</th>\n",
       "      <th>Date</th>\n",
       "    </tr>\n",
       "  </thead>\n",
       "  <tbody>\n",
       "    <tr>\n",
       "      <th>0</th>\n",
       "      <td>Kaitangata</td>\n",
       "      <td>-46.2817</td>\n",
       "      <td>169.8464</td>\n",
       "      <td>52.00</td>\n",
       "      <td>92</td>\n",
       "      <td>99</td>\n",
       "      <td>3.00</td>\n",
       "      <td>NZ</td>\n",
       "      <td>1612894451</td>\n",
       "    </tr>\n",
       "    <tr>\n",
       "      <th>1</th>\n",
       "      <td>Nikolskoye</td>\n",
       "      <td>59.7035</td>\n",
       "      <td>30.7861</td>\n",
       "      <td>7.00</td>\n",
       "      <td>85</td>\n",
       "      <td>98</td>\n",
       "      <td>4.47</td>\n",
       "      <td>RU</td>\n",
       "      <td>1612894459</td>\n",
       "    </tr>\n",
       "    <tr>\n",
       "      <th>2</th>\n",
       "      <td>Mitsamiouli</td>\n",
       "      <td>-11.3847</td>\n",
       "      <td>43.2844</td>\n",
       "      <td>82.74</td>\n",
       "      <td>77</td>\n",
       "      <td>91</td>\n",
       "      <td>14.97</td>\n",
       "      <td>KM</td>\n",
       "      <td>1612894493</td>\n",
       "    </tr>\n",
       "    <tr>\n",
       "      <th>3</th>\n",
       "      <td>Morón</td>\n",
       "      <td>-34.6534</td>\n",
       "      <td>-58.6198</td>\n",
       "      <td>72.00</td>\n",
       "      <td>78</td>\n",
       "      <td>90</td>\n",
       "      <td>10.36</td>\n",
       "      <td>AR</td>\n",
       "      <td>1612894494</td>\n",
       "    </tr>\n",
       "    <tr>\n",
       "      <th>4</th>\n",
       "      <td>Athens</td>\n",
       "      <td>37.9795</td>\n",
       "      <td>23.7162</td>\n",
       "      <td>63.00</td>\n",
       "      <td>63</td>\n",
       "      <td>20</td>\n",
       "      <td>2.30</td>\n",
       "      <td>GR</td>\n",
       "      <td>1612894239</td>\n",
       "    </tr>\n",
       "    <tr>\n",
       "      <th>...</th>\n",
       "      <td>...</td>\n",
       "      <td>...</td>\n",
       "      <td>...</td>\n",
       "      <td>...</td>\n",
       "      <td>...</td>\n",
       "      <td>...</td>\n",
       "      <td>...</td>\n",
       "      <td>...</td>\n",
       "      <td>...</td>\n",
       "    </tr>\n",
       "    <tr>\n",
       "      <th>542</th>\n",
       "      <td>Mound</td>\n",
       "      <td>44.9366</td>\n",
       "      <td>-93.6661</td>\n",
       "      <td>7.00</td>\n",
       "      <td>68</td>\n",
       "      <td>70</td>\n",
       "      <td>8.99</td>\n",
       "      <td>US</td>\n",
       "      <td>1612894649</td>\n",
       "    </tr>\n",
       "    <tr>\n",
       "      <th>543</th>\n",
       "      <td>Warrnambool</td>\n",
       "      <td>-38.3833</td>\n",
       "      <td>142.4833</td>\n",
       "      <td>57.99</td>\n",
       "      <td>90</td>\n",
       "      <td>0</td>\n",
       "      <td>1.01</td>\n",
       "      <td>AU</td>\n",
       "      <td>1612894650</td>\n",
       "    </tr>\n",
       "    <tr>\n",
       "      <th>544</th>\n",
       "      <td>Cortez</td>\n",
       "      <td>37.3489</td>\n",
       "      <td>-108.5859</td>\n",
       "      <td>51.80</td>\n",
       "      <td>25</td>\n",
       "      <td>40</td>\n",
       "      <td>4.50</td>\n",
       "      <td>US</td>\n",
       "      <td>1612894650</td>\n",
       "    </tr>\n",
       "    <tr>\n",
       "      <th>545</th>\n",
       "      <td>Grand Island</td>\n",
       "      <td>40.9250</td>\n",
       "      <td>-98.3420</td>\n",
       "      <td>3.99</td>\n",
       "      <td>71</td>\n",
       "      <td>1</td>\n",
       "      <td>4.61</td>\n",
       "      <td>US</td>\n",
       "      <td>1612894650</td>\n",
       "    </tr>\n",
       "    <tr>\n",
       "      <th>546</th>\n",
       "      <td>Puerto Escondido</td>\n",
       "      <td>15.8500</td>\n",
       "      <td>-97.0667</td>\n",
       "      <td>86.00</td>\n",
       "      <td>74</td>\n",
       "      <td>20</td>\n",
       "      <td>8.05</td>\n",
       "      <td>MX</td>\n",
       "      <td>1612894650</td>\n",
       "    </tr>\n",
       "  </tbody>\n",
       "</table>\n",
       "<p>547 rows × 9 columns</p>\n",
       "</div>"
      ],
      "text/plain": [
       "                 City      Lat       Lng  Max Temp  Humidity  Cloudiness  \\\n",
       "0          Kaitangata -46.2817  169.8464     52.00        92          99   \n",
       "1          Nikolskoye  59.7035   30.7861      7.00        85          98   \n",
       "2         Mitsamiouli -11.3847   43.2844     82.74        77          91   \n",
       "3               Morón -34.6534  -58.6198     72.00        78          90   \n",
       "4              Athens  37.9795   23.7162     63.00        63          20   \n",
       "..                ...      ...       ...       ...       ...         ...   \n",
       "542             Mound  44.9366  -93.6661      7.00        68          70   \n",
       "543       Warrnambool -38.3833  142.4833     57.99        90           0   \n",
       "544            Cortez  37.3489 -108.5859     51.80        25          40   \n",
       "545      Grand Island  40.9250  -98.3420      3.99        71           1   \n",
       "546  Puerto Escondido  15.8500  -97.0667     86.00        74          20   \n",
       "\n",
       "     Wind Speed Country        Date  \n",
       "0          3.00      NZ  1612894451  \n",
       "1          4.47      RU  1612894459  \n",
       "2         14.97      KM  1612894493  \n",
       "3         10.36      AR  1612894494  \n",
       "4          2.30      GR  1612894239  \n",
       "..          ...     ...         ...  \n",
       "542        8.99      US  1612894649  \n",
       "543        1.01      AU  1612894650  \n",
       "544        4.50      US  1612894650  \n",
       "545        4.61      US  1612894650  \n",
       "546        8.05      MX  1612894650  \n",
       "\n",
       "[547 rows x 9 columns]"
      ]
     },
     "execution_count": 4,
     "metadata": {},
     "output_type": "execute_result"
    }
   ],
   "source": [
    "cities_df = pd.DataFrame({\n",
    "        \"City\": cities_name,\n",
    "        \"Lat\": cities_lat,\n",
    "        \"Lng\": cities_lng,\n",
    "        \"Max Temp\": cities_max,\n",
    "        \"Humidity\": cities_hum,\n",
    "        \"Cloudiness\": cities_cloud,\n",
    "        \"Wind Speed\": cities_wind,\n",
    "        \"Country\": cities_country,\n",
    "        \"Date\": cities_date\n",
    "})\n",
    "\n",
    "cities_df.to_csv(\"./Cities_Weather_Data.csv\", index=False, header=True)\n",
    "\n",
    "cities_df"
   ]
  },
  {
   "cell_type": "code",
   "execution_count": 5,
   "metadata": {},
   "outputs": [
    {
     "data": {
      "text/html": [
       "<div>\n",
       "<style scoped>\n",
       "    .dataframe tbody tr th:only-of-type {\n",
       "        vertical-align: middle;\n",
       "    }\n",
       "\n",
       "    .dataframe tbody tr th {\n",
       "        vertical-align: top;\n",
       "    }\n",
       "\n",
       "    .dataframe thead th {\n",
       "        text-align: right;\n",
       "    }\n",
       "</style>\n",
       "<table border=\"1\" class=\"dataframe\">\n",
       "  <thead>\n",
       "    <tr style=\"text-align: right;\">\n",
       "      <th></th>\n",
       "      <th>Lat</th>\n",
       "      <th>Lng</th>\n",
       "      <th>Max Temp</th>\n",
       "      <th>Humidity</th>\n",
       "      <th>Cloudiness</th>\n",
       "      <th>Wind Speed</th>\n",
       "      <th>Date</th>\n",
       "    </tr>\n",
       "  </thead>\n",
       "  <tbody>\n",
       "    <tr>\n",
       "      <th>count</th>\n",
       "      <td>547.000000</td>\n",
       "      <td>547.000000</td>\n",
       "      <td>547.000000</td>\n",
       "      <td>547.000000</td>\n",
       "      <td>547.000000</td>\n",
       "      <td>547.000000</td>\n",
       "      <td>5.470000e+02</td>\n",
       "    </tr>\n",
       "    <tr>\n",
       "      <th>mean</th>\n",
       "      <td>19.012199</td>\n",
       "      <td>16.744896</td>\n",
       "      <td>51.120969</td>\n",
       "      <td>72.475320</td>\n",
       "      <td>56.248629</td>\n",
       "      <td>8.078154</td>\n",
       "      <td>1.612895e+09</td>\n",
       "    </tr>\n",
       "    <tr>\n",
       "      <th>std</th>\n",
       "      <td>33.100352</td>\n",
       "      <td>92.075458</td>\n",
       "      <td>32.990288</td>\n",
       "      <td>19.809829</td>\n",
       "      <td>37.893484</td>\n",
       "      <td>6.102649</td>\n",
       "      <td>8.095160e+01</td>\n",
       "    </tr>\n",
       "    <tr>\n",
       "      <th>min</th>\n",
       "      <td>-54.800000</td>\n",
       "      <td>-179.166700</td>\n",
       "      <td>-43.600000</td>\n",
       "      <td>11.000000</td>\n",
       "      <td>0.000000</td>\n",
       "      <td>0.250000</td>\n",
       "      <td>1.612894e+09</td>\n",
       "    </tr>\n",
       "    <tr>\n",
       "      <th>25%</th>\n",
       "      <td>-7.168050</td>\n",
       "      <td>-66.241050</td>\n",
       "      <td>30.100000</td>\n",
       "      <td>64.000000</td>\n",
       "      <td>20.000000</td>\n",
       "      <td>3.980000</td>\n",
       "      <td>1.612894e+09</td>\n",
       "    </tr>\n",
       "    <tr>\n",
       "      <th>50%</th>\n",
       "      <td>21.333300</td>\n",
       "      <td>20.252100</td>\n",
       "      <td>64.400000</td>\n",
       "      <td>77.000000</td>\n",
       "      <td>75.000000</td>\n",
       "      <td>6.710000</td>\n",
       "      <td>1.612895e+09</td>\n",
       "    </tr>\n",
       "    <tr>\n",
       "      <th>75%</th>\n",
       "      <td>48.350000</td>\n",
       "      <td>98.240350</td>\n",
       "      <td>77.490000</td>\n",
       "      <td>87.500000</td>\n",
       "      <td>90.000000</td>\n",
       "      <td>10.360000</td>\n",
       "      <td>1.612895e+09</td>\n",
       "    </tr>\n",
       "    <tr>\n",
       "      <th>max</th>\n",
       "      <td>78.218600</td>\n",
       "      <td>179.316700</td>\n",
       "      <td>96.800000</td>\n",
       "      <td>100.000000</td>\n",
       "      <td>100.000000</td>\n",
       "      <td>42.230000</td>\n",
       "      <td>1.612895e+09</td>\n",
       "    </tr>\n",
       "  </tbody>\n",
       "</table>\n",
       "</div>"
      ],
      "text/plain": [
       "              Lat         Lng    Max Temp    Humidity  Cloudiness  Wind Speed  \\\n",
       "count  547.000000  547.000000  547.000000  547.000000  547.000000  547.000000   \n",
       "mean    19.012199   16.744896   51.120969   72.475320   56.248629    8.078154   \n",
       "std     33.100352   92.075458   32.990288   19.809829   37.893484    6.102649   \n",
       "min    -54.800000 -179.166700  -43.600000   11.000000    0.000000    0.250000   \n",
       "25%     -7.168050  -66.241050   30.100000   64.000000   20.000000    3.980000   \n",
       "50%     21.333300   20.252100   64.400000   77.000000   75.000000    6.710000   \n",
       "75%     48.350000   98.240350   77.490000   87.500000   90.000000   10.360000   \n",
       "max     78.218600  179.316700   96.800000  100.000000  100.000000   42.230000   \n",
       "\n",
       "               Date  \n",
       "count  5.470000e+02  \n",
       "mean   1.612895e+09  \n",
       "std    8.095160e+01  \n",
       "min    1.612894e+09  \n",
       "25%    1.612894e+09  \n",
       "50%    1.612895e+09  \n",
       "75%    1.612895e+09  \n",
       "max    1.612895e+09  "
      ]
     },
     "execution_count": 5,
     "metadata": {},
     "output_type": "execute_result"
    }
   ],
   "source": [
    "cities_df.describe()"
   ]
  },
  {
   "cell_type": "markdown",
   "metadata": {},
   "source": [
    "## Inspect the data and remove the cities where the humidity > 100%.\n",
    "----\n",
    "Skip this step if there are no cities that have humidity > 100%. "
   ]
  },
  {
   "cell_type": "code",
   "execution_count": null,
   "metadata": {},
   "outputs": [],
   "source": []
  },
  {
   "cell_type": "code",
   "execution_count": 6,
   "metadata": {},
   "outputs": [],
   "source": [
    "#  Get the indices of cities that have humidity over 100%.\n"
   ]
  },
  {
   "cell_type": "code",
   "execution_count": 7,
   "metadata": {},
   "outputs": [],
   "source": [
    "# Make a new DataFrame equal to the city data to drop all humidity outliers by index.\n",
    "# Passing \"inplace=False\" will make a copy of the city_data DataFrame, which we call \"clean_city_data\".\n"
   ]
  },
  {
   "cell_type": "code",
   "execution_count": null,
   "metadata": {},
   "outputs": [],
   "source": [
    "\n"
   ]
  },
  {
   "cell_type": "markdown",
   "metadata": {},
   "source": [
    "## Plotting the Data\n",
    "* Use proper labeling of the plots using plot titles (including date of analysis) and axes labels.\n",
    "* Save the plotted figures as .pngs."
   ]
  },
  {
   "cell_type": "markdown",
   "metadata": {},
   "source": [
    "## Latitude vs. Temperature Plot"
   ]
  },
  {
   "cell_type": "code",
   "execution_count": 8,
   "metadata": {
    "scrolled": true
   },
   "outputs": [
    {
     "data": {
      "image/png": "[encoded data removed]",
      "text/plain": [
       "<Figure size 432x288 with 1 Axes>"
      ]
     },
     "metadata": {
      "needs_background": "light"
     },
     "output_type": "display_data"
    }
   ],
   "source": [
    "plt.scatter(cities_df[\"Lat\"],cities_df[\"Max Temp\"])\n",
    "plt.xlabel(\"Latitude\")\n",
    "plt.ylabel(\"Max Temperature (F)\")\n",
    "plt.title(\"Latitude vs. Max Temperature\")\n",
    "plt.grid()\n",
    "\n",
    "plt.show()"
   ]
  },
  {
   "cell_type": "markdown",
   "metadata": {},
   "source": [
    "## Latitude vs. Humidity Plot"
   ]
  },
  {
   "cell_type": "code",
   "execution_count": 9,
   "metadata": {},
   "outputs": [
    {
     "data": {
      "image/png": "[encoded data removed]",
      "text/plain": [
       "<Figure size 432x288 with 1 Axes>"
      ]
     },
     "metadata": {
      "needs_background": "light"
     },
     "output_type": "display_data"
    }
   ],
   "source": [
    "plt.scatter(cities_df[\"Lat\"],cities_df[\"Humidity\"])\n",
    "plt.xlabel(\"Latitude\")\n",
    "plt.ylabel(\"Humidity\")\n",
    "plt.title(\"Latitude vs. Humidity\")\n",
    "plt.grid()\n",
    "\n",
    "plt.show()"
   ]
  },
  {
   "cell_type": "markdown",
   "metadata": {},
   "source": [
    "## Latitude vs. Cloudiness Plot"
   ]
  },
  {
   "cell_type": "code",
   "execution_count": 10,
   "metadata": {},
   "outputs": [
    {
     "data": {
      "image/png": "[encoded data removed]",
      "text/plain": [
       "<Figure size 432x288 with 1 Axes>"
      ]
     },
     "metadata": {
      "needs_background": "light"
     },
     "output_type": "display_data"
    }
   ],
   "source": [
    "plt.scatter(cities_df[\"Lat\"],cities_df[\"Cloudiness\"])\n",
    "plt.xlabel(\"Latitude\")\n",
    "plt.ylabel(\"Cloudiness\")\n",
    "plt.title(\"Latitude vs. Cloudiness\")\n",
    "plt.grid()\n",
    "\n",
    "plt.show()"
   ]
  },
  {
   "cell_type": "markdown",
   "metadata": {},
   "source": [
    "## Latitude vs. Wind Speed Plot"
   ]
  },
  {
   "cell_type": "code",
   "execution_count": 11,
   "metadata": {},
   "outputs": [
    {
     "data": {
      "image/png": "[encoded data removed]",
      "text/plain": [
       "<Figure size 432x288 with 1 Axes>"
      ]
     },
     "metadata": {
      "needs_background": "light"
     },
     "output_type": "display_data"
    }
   ],
   "source": [
    "plt.scatter(cities_df[\"Lat\"],cities_df[\"Wind Speed\"])\n",
    "plt.xlabel(\"Latitude\")\n",
    "plt.ylabel(\"Wind Speed\")\n",
    "plt.title(\"Latitude vs. Wind Speed\")\n",
    "plt.grid()\n",
    "\n",
    "plt.show()"
   ]
  },
  {
   "cell_type": "markdown",
   "metadata": {},
   "source": [
    "## Linear Regression"
   ]
  },
  {
   "cell_type": "code",
   "execution_count": 12,
   "metadata": {},
   "outputs": [],
   "source": [
    "north_df = cities_df.loc[cities_df[\"Lat\"] > 0]\n",
    "south_df = cities_df.loc[cities_df[\"Lat\"] < 0]"
   ]
  },
  {
   "cell_type": "markdown",
   "metadata": {},
   "source": [
    "####  Northern Hemisphere - Max Temp vs. Latitude Linear Regression"
   ]
  },
  {
   "cell_type": "code",
   "execution_count": 13,
   "metadata": {},
   "outputs": [
    {
     "name": "stdout",
     "output_type": "stream",
     "text": [
      "y = -1.48x + 95.85\n",
      "The r-value is: -0.8871073344413626\n"
     ]
    },
    {
     "data": {
      "image/png": "[encoded data removed]",
      "text/plain": [
       "<Figure size 432x288 with 1 Axes>"
      ]
     },
     "metadata": {
      "needs_background": "light"
     },
     "output_type": "display_data"
    }
   ],
   "source": [
    "plt.scatter(north_df[\"Lat\"],north_df[\"Max Temp\"])\n",
    "plt.xlabel(\"Latitude\")\n",
    "plt.ylabel(\"Max Temperature\")\n",
    "\n",
    "(slope, intercept, r, p, std) = linregress(north_df[\"Lat\"],north_df[\"Max Temp\"])\n",
    "regress_values = north_df[\"Lat\"] * slope + intercept\n",
    "line_eq = \"y = \" + str(round(slope,2)) + \"x + \" + str(round(intercept,2))\n",
    "plt.plot(north_df[\"Lat\"],regress_values,\"r-\")\n",
    "print(line_eq)\n",
    "print(f\"The r-value is: {r}\")\n",
    "\n",
    "plt.show()"
   ]
  },
  {
   "cell_type": "markdown",
   "metadata": {},
   "source": [
    "####  Southern Hemisphere - Max Temp vs. Latitude Linear Regression"
   ]
  },
  {
   "cell_type": "code",
   "execution_count": 14,
   "metadata": {},
   "outputs": [
    {
     "name": "stdout",
     "output_type": "stream",
     "text": [
      "y = 0.36x + 81.84\n",
      "The r-value is: 0.5449721553772646\n"
     ]
    },
    {
     "data": {
      "image/png": "[encoded data removed]",
      "text/plain": [
       "<Figure size 432x288 with 1 Axes>"
      ]
     },
     "metadata": {
      "needs_background": "light"
     },
     "output_type": "display_data"
    }
   ],
   "source": [
    "plt.scatter(south_df[\"Lat\"],south_df[\"Max Temp\"])\n",
    "plt.xlabel(\"Latitude\")\n",
    "plt.ylabel(\"Max Temperature\")\n",
    "\n",
    "(slope, intercept, r, p, std) = linregress(south_df[\"Lat\"],south_df[\"Max Temp\"])\n",
    "regress_values = south_df[\"Lat\"] * slope + intercept\n",
    "line_eq = \"y = \" + str(round(slope,2)) + \"x + \" + str(round(intercept,2))\n",
    "plt.plot(south_df[\"Lat\"],regress_values,\"r-\")\n",
    "print(line_eq)\n",
    "print(f\"The r-value is: {r}\")\n",
    "\n",
    "plt.show()"
   ]
  },
  {
   "cell_type": "markdown",
   "metadata": {},
   "source": [
    "####  Northern Hemisphere - Humidity (%) vs. Latitude Linear Regression"
   ]
  },
  {
   "cell_type": "code",
   "execution_count": 15,
   "metadata": {},
   "outputs": [
    {
     "name": "stdout",
     "output_type": "stream",
     "text": [
      "y = 0.39x + 55.85\n",
      "The r-value is: 0.38700835654730054\n"
     ]
    },
    {
     "data": {
      "image/png": "[encoded data removed]",
      "text/plain": [
       "<Figure size 432x288 with 1 Axes>"
      ]
     },
     "metadata": {
      "needs_background": "light"
     },
     "output_type": "display_data"
    }
   ],
   "source": [
    "plt.scatter(north_df[\"Lat\"],north_df[\"Humidity\"])\n",
    "plt.xlabel(\"Latitude\")\n",
    "plt.ylabel(\"Humidity\")\n",
    "\n",
    "(slope, intercept, r, p, std) = linregress(north_df[\"Lat\"],north_df[\"Humidity\"])\n",
    "regress_values = north_df[\"Lat\"] * slope + intercept\n",
    "line_eq = \"y = \" + str(round(slope,2)) + \"x + \" + str(round(intercept,2))\n",
    "plt.plot(north_df[\"Lat\"],regress_values,\"r-\")\n",
    "print(line_eq)\n",
    "print(f\"The r-value is: {r}\")\n",
    "\n",
    "plt.show()"
   ]
  },
  {
   "cell_type": "markdown",
   "metadata": {},
   "source": [
    "####  Southern Hemisphere - Humidity (%) vs. Latitude Linear Regression"
   ]
  },
  {
   "cell_type": "code",
   "execution_count": 16,
   "metadata": {},
   "outputs": [
    {
     "name": "stdout",
     "output_type": "stream",
     "text": [
      "y = 0.26x + 80.9\n",
      "The r-value is: 0.218107165791228\n"
     ]
    },
    {
     "data": {
      "image/png": "[encoded data removed]",
      "text/plain": [
       "<Figure size 432x288 with 1 Axes>"
      ]
     },
     "metadata": {
      "needs_background": "light"
     },
     "output_type": "display_data"
    }
   ],
   "source": [
    "plt.scatter(south_df[\"Lat\"],south_df[\"Humidity\"])\n",
    "plt.xlabel(\"Latitude\")\n",
    "plt.ylabel(\"Humidity\")\n",
    "\n",
    "(slope, intercept, r, p, std) = linregress(south_df[\"Lat\"],south_df[\"Humidity\"])\n",
    "regress_values = south_df[\"Lat\"] * slope + intercept\n",
    "line_eq = \"y = \" + str(round(slope,2)) + \"x + \" + str(round(intercept,2))\n",
    "plt.plot(south_df[\"Lat\"],regress_values,\"r-\")\n",
    "print(line_eq)\n",
    "print(f\"The r-value is: {r}\")\n",
    "\n",
    "plt.show()"
   ]
  },
  {
   "cell_type": "markdown",
   "metadata": {},
   "source": [
    "####  Northern Hemisphere - Cloudiness (%) vs. Latitude Linear Regression"
   ]
  },
  {
   "cell_type": "code",
   "execution_count": 17,
   "metadata": {},
   "outputs": [
    {
     "name": "stdout",
     "output_type": "stream",
     "text": [
      "y = 0.34x + 41.4\n",
      "The r-value is: 0.18801421089126624\n"
     ]
    },
    {
     "data": {
      "image/png": "[encoded data removed]",
      "text/plain": [
       "<Figure size 432x288 with 1 Axes>"
      ]
     },
     "metadata": {
      "needs_background": "light"
     },
     "output_type": "display_data"
    }
   ],
   "source": [
    "plt.scatter(north_df[\"Lat\"],north_df[\"Cloudiness\"])\n",
    "plt.xlabel(\"Latitude\")\n",
    "plt.ylabel(\"Cloudiness\")\n",
    "\n",
    "(slope, intercept, r, p, std) = linregress(north_df[\"Lat\"],north_df[\"Cloudiness\"])\n",
    "regress_values = north_df[\"Lat\"] * slope + intercept\n",
    "line_eq = \"y = \" + str(round(slope,2)) + \"x + \" + str(round(intercept,2))\n",
    "plt.plot(north_df[\"Lat\"],regress_values,\"r-\")\n",
    "print(line_eq)\n",
    "print(f\"The r-value is: {r}\")\n",
    "\n",
    "plt.show()"
   ]
  },
  {
   "cell_type": "markdown",
   "metadata": {},
   "source": [
    "####  Southern Hemisphere - Cloudiness (%) vs. Latitude Linear Regression"
   ]
  },
  {
   "cell_type": "code",
   "execution_count": 18,
   "metadata": {},
   "outputs": [
    {
     "name": "stdout",
     "output_type": "stream",
     "text": [
      "y = 0.84x + 76.47\n",
      "The r-value is: 0.3073766601448247\n"
     ]
    },
    {
     "data": {
      "image/png": "[encoded data removed]",
      "text/plain": [
       "<Figure size 432x288 with 1 Axes>"
      ]
     },
     "metadata": {
      "needs_background": "light"
     },
     "output_type": "display_data"
    }
   ],
   "source": [
    "plt.scatter(south_df[\"Lat\"],south_df[\"Cloudiness\"])\n",
    "plt.xlabel(\"Latitude\")\n",
    "plt.ylabel(\"Cloudiness\")\n",
    "\n",
    "(slope, intercept, r, p, std) = linregress(south_df[\"Lat\"],south_df[\"Cloudiness\"])\n",
    "regress_values = south_df[\"Lat\"] * slope + intercept\n",
    "line_eq = \"y = \" + str(round(slope,2)) + \"x + \" + str(round(intercept,2))\n",
    "plt.plot(south_df[\"Lat\"],regress_values,\"r-\")\n",
    "print(line_eq)\n",
    "print(f\"The r-value is: {r}\")\n",
    "\n",
    "plt.show()"
   ]
  },
  {
   "cell_type": "markdown",
   "metadata": {},
   "source": [
    "####  Northern Hemisphere - Wind Speed (mph) vs. Latitude Linear Regression"
   ]
  },
  {
   "cell_type": "code",
   "execution_count": 19,
   "metadata": {},
   "outputs": [
    {
     "name": "stdout",
     "output_type": "stream",
     "text": [
      "y = 0.02x + 7.47\n",
      "The r-value is: 0.07129746003978159\n"
     ]
    },
    {
     "data": {
      "image/png": "[encoded data removed]",
      "text/plain": [
       "<Figure size 432x288 with 1 Axes>"
      ]
     },
     "metadata": {
      "needs_background": "light"
     },
     "output_type": "display_data"
    }
   ],
   "source": [
    "plt.scatter(north_df[\"Lat\"],north_df[\"Wind Speed\"])\n",
    "plt.xlabel(\"Latitude\")\n",
    "plt.ylabel(\"Wind Speed\")\n",
    "\n",
    "(slope, intercept, r, p, std) = linregress(north_df[\"Lat\"],north_df[\"Wind Speed\"])\n",
    "regress_values = north_df[\"Lat\"] * slope + intercept\n",
    "line_eq = \"y = \" + str(round(slope,2)) + \"x + \" + str(round(intercept,2))\n",
    "plt.plot(north_df[\"Lat\"],regress_values,\"r-\")\n",
    "print(line_eq)\n",
    "print(f\"The r-value is: {r}\")\n",
    "\n",
    "plt.show()"
   ]
  },
  {
   "cell_type": "markdown",
   "metadata": {},
   "source": [
    "####  Southern Hemisphere - Wind Speed (mph) vs. Latitude Linear Regression"
   ]
  },
  {
   "cell_type": "code",
   "execution_count": 20,
   "metadata": {},
   "outputs": [
    {
     "name": "stdout",
     "output_type": "stream",
     "text": [
      "y = -0.04x + 6.68\n",
      "The r-value is: -0.12078682597875423\n"
     ]
    },
    {
     "data": {
      "image/png": "[encoded data removed]",
      "text/plain": [
       "<Figure size 432x288 with 1 Axes>"
      ]
     },
     "metadata": {
      "needs_background": "light"
     },
     "output_type": "display_data"
    }
   ],
   "source": [
    "plt.scatter(south_df[\"Lat\"],south_df[\"Wind Speed\"])\n",
    "plt.xlabel(\"Latitude\")\n",
    "plt.ylabel(\"Wind Speed\")\n",
    "\n",
    "(slope, intercept, r, p, std) = linregress(south_df[\"Lat\"],south_df[\"Wind Speed\"])\n",
    "regress_values = south_df[\"Lat\"] * slope + intercept\n",
    "line_eq = \"y = \" + str(round(slope,2)) + \"x + \" + str(round(intercept,2))\n",
    "plt.plot(south_df[\"Lat\"],regress_values,\"r-\")\n",
    "print(line_eq)\n",
    "print(f\"The r-value is: {r}\")\n",
    "\n",
    "plt.show()"
   ]
  },
  {
   "cell_type": "code",
   "execution_count": null,
   "metadata": {},
   "outputs": [],
   "source": []
  }
 ],
 "metadata": {
  "anaconda-cloud": {},
  "kernel_info": {
   "name": "python3"
  },
  "kernelspec": {
   "display_name": "Python 3",
   "language": "python",
   "name": "python3"
  },
  "language_info": {
   "codemirror_mode": {
    "name": "ipython",
    "version": 3
   },
   "file_extension": ".py",
   "mimetype": "text/x-python",
   "name": "python",
   "nbconvert_exporter": "python",
   "pygments_lexer": "ipython3",
   "version": "3.8.5"
  },
  "latex_envs": {
   "LaTeX_envs_menu_present": true,
   "autoclose": false,
   "autocomplete": true,
   "bibliofile": "biblio.bib",
   "cite_by": "apalike",
   "current_citInitial": 1,
   "eqLabelWithNumbers": true,
   "eqNumInitial": 1,
   "hotkeys": {
    "equation": "Ctrl-E",
    "itemize": "Ctrl-I"
   },
   "labels_anchors": false,
   "latex_user_defs": false,
   "report_style_numbering": false,
   "user_envs_cfg": false
  },
  "nteract": {
   "version": "0.12.3"
  }
 },
 "nbformat": 4,
 "nbformat_minor": 4
}
